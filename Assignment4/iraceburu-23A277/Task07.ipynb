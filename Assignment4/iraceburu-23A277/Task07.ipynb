{
 "cells": [
  {
   "cell_type": "markdown",
   "metadata": {
    "id": "nOOPLCHF7hLB"
   },
   "source": [
    "**Task 07: Querying RDF(s)**"
   ]
  },
  {
   "cell_type": "code",
   "execution_count": 1,
   "metadata": {
    "colab": {
     "base_uri": "https://localhost:8080/",
     "height": 211
    },
    "id": "Yl9npCt8n6m-",
    "outputId": "096014c0-f1ad-4bd6-bada-ab3561ff1367"
   },
   "outputs": [
    {
     "name": "stdout",
     "output_type": "stream",
     "text": [
      "Requirement already satisfied: rdflib in c:\\users\\irune\\anaconda3\\lib\\site-packages (7.0.0)\n",
      "Requirement already satisfied: pyparsing<4,>=2.1.0 in c:\\users\\irune\\anaconda3\\lib\\site-packages (from rdflib) (2.4.7)\n",
      "Requirement already satisfied: isodate<0.7.0,>=0.6.0 in c:\\users\\irune\\anaconda3\\lib\\site-packages (from rdflib) (0.6.1)\n",
      "Requirement already satisfied: six in c:\\users\\irune\\anaconda3\\lib\\site-packages (from isodate<0.7.0,>=0.6.0->rdflib) (1.15.0)\n"
     ]
    }
   ],
   "source": [
    "!pip install rdflib\n",
    "github_storage = \"https://raw.githubusercontent.com/FacultadInformatica-LinkedData/Curso2023-2024/master/Assignment4/course_materials\""
   ]
  },
  {
   "cell_type": "markdown",
   "metadata": {
    "id": "XY7aPc86Bqoo"
   },
   "source": [
    "First let's read the RDF file"
   ]
  },
  {
   "cell_type": "code",
   "execution_count": 2,
   "metadata": {
    "colab": {
     "base_uri": "https://localhost:8080/",
     "height": 35
    },
    "id": "9ERh415on7kF",
    "outputId": "395dc571-ef76-4330-cf4b-0b9db3aa5277"
   },
   "outputs": [
    {
     "data": {
      "text/plain": [
       "<Graph identifier=Nace37ece34db4251abe98fbcf3295106 (<class 'rdflib.graph.Graph'>)>"
      ]
     },
     "execution_count": 2,
     "metadata": {},
     "output_type": "execute_result"
    }
   ],
   "source": [
    "from rdflib import Graph, Namespace, Literal\n",
    "from rdflib.namespace import RDF, RDFS\n",
    "g = Graph()\n",
    "g.namespace_manager.bind('ns', Namespace(\"http://somewhere#\"), override=False)\n",
    "g.namespace_manager.bind('vcard', Namespace(\"http://www.w3.org/2001/vcard-rdf/3.0#\"), override=False)\n",
    "g.parse(github_storage+\"/rdf/example6.rdf\", format=\"xml\")"
   ]
  },
  {
   "cell_type": "markdown",
   "metadata": {
    "id": "qp1oe2Eddsvo"
   },
   "source": [
    "**TASK 7.1: List all subclasses of \"LivingThing\" with RDFLib and SPARQL**"
   ]
  },
  {
   "cell_type": "code",
   "execution_count": 3,
   "metadata": {},
   "outputs": [
    {
     "name": "stdout",
     "output_type": "stream",
     "text": [
      "http://somewhere#JaneSmith http://www.w3.org/1999/02/22-rdf-syntax-ns#type http://somewhere#Researcher\n",
      "http://somewhere#Person http://www.w3.org/2000/01/rdf-schema#subClassOf http://somewhere#LivingThing\n",
      "http://somewhere#PhDstudent http://www.w3.org/2000/01/rdf-schema#subClassOf http://somewhere#Researcher\n",
      "http://somewhere#SaraJones http://www.w3.org/1999/02/22-rdf-syntax-ns#type http://somewhere#Person\n",
      "http://somewhere#SaraJones http://xmlns.com/foaf/0.1/knows http://somewhere#JaneSmith\n",
      "http://somewhere#Professor http://www.w3.org/1999/02/22-rdf-syntax-ns#type http://www.w3.org/2000/01/rdf-schema#Class\n",
      "http://somewhere#SaraJones http://xmlns.com/foaf/0.1/knows http://somewhere#RockySmith\n",
      "http://somewhere#RockySmith http://xmlns.com/foaf/0.1/knows http://somewhere#JaneSmith\n",
      "http://somewhere#Person http://www.w3.org/1999/02/22-rdf-syntax-ns#type http://www.w3.org/2000/01/rdf-schema#Class\n",
      "http://somewhere#http://www.w3.org/2001/vcard-rdf/3.0/FN http://www.w3.org/1999/02/22-rdf-syntax-ns#type http://www.w3.org/2000/01/rdf-schema#Datatype\n",
      "http://somewhere#SaraJones http://www.w3.org/2001/vcard-rdf/3.0/Family Jones\n",
      "http://somewhere#University http://www.w3.org/1999/02/22-rdf-syntax-ns#type http://www.w3.org/2000/01/rdf-schema#Class\n",
      "http://somewhere#UPM http://www.w3.org/1999/02/22-rdf-syntax-ns#type http://somewhere#University\n",
      "http://somewhere#Professor http://www.w3.org/2000/01/rdf-schema#subClassOf http://somewhere#Person\n",
      "http://somewhere#RockySmith http://xmlns.com/foaf/0.1/knows http://somewhere#SaraJones\n",
      "http://somewhere#RockySmith http://www.w3.org/2001/vcard-rdf/3.0/Given Rocky\n",
      "http://somewhere#Animal http://www.w3.org/2000/01/rdf-schema#subClassOf http://somewhere#LivingThing\n",
      "http://somewhere#JimGonzalez http://www.w3.org/1999/02/22-rdf-syntax-ns#type http://somewhere#Professor\n",
      "http://somewhere#JaneSmith http://www.w3.org/2001/vcard-rdf/3.0/FN Jane Smith\n",
      "http://somewhere#LivingThing http://www.w3.org/1999/02/22-rdf-syntax-ns#type http://www.w3.org/2000/01/rdf-schema#Class\n",
      "http://somewhere#PhDstudent http://www.w3.org/1999/02/22-rdf-syntax-ns#type http://www.w3.org/2000/01/rdf-schema#Class\n",
      "http://somewhere#JaneSmith http://www.w3.org/2001/vcard-rdf/3.0/Given Jane\n",
      "http://somewhere#http://www.w3.org/2001/vcard-rdf/3.0/FN http://www.w3.org/2000/01/rdf-schema#range http://www.w3.org/2001/XMLSchema#string\n",
      "http://somewhere#SaraJones http://www.w3.org/2001/vcard-rdf/3.0/FN Sara Jones\n",
      "http://somewhere#JohnSmith http://www.w3.org/2001/vcard-rdf/3.0/Family Smith\n",
      "http://somewhere#http://www.w3.org/2001/vcard-rdf/3.0/Family http://www.w3.org/1999/02/22-rdf-syntax-ns#type http://www.w3.org/2000/01/rdf-schema#Property\n",
      "http://somewhere#RockySmith http://www.w3.org/2001/vcard-rdf/3.0/FN Rocky Smith\n",
      "http://somewhere#JaneSmith http://xmlns.com/foaf/0.1/knows http://somewhere#RockySmith\n",
      "http://somewhere#JaneSmith http://xmlns.com/foaf/0.1/knows http://somewhere#SaraJones\n",
      "http://somewhere#JohnSmith http://www.w3.org/2001/vcard-rdf/3.0/Given John\n",
      "http://somewhere#Researcher http://www.w3.org/2000/01/rdf-schema#subClassOf http://somewhere#Person\n",
      "http://somewhere#Animal http://www.w3.org/1999/02/22-rdf-syntax-ns#type http://www.w3.org/2000/01/rdf-schema#Class\n",
      "http://somewhere#SaraJones http://www.w3.org/2001/vcard-rdf/3.0/Given Sara\n",
      "http://somewhere#JohnSmith http://www.w3.org/2001/vcard-rdf/3.0/FN John Smith\n",
      "http://somewhere#RockySmith http://www.w3.org/1999/02/22-rdf-syntax-ns#type http://somewhere#Animal\n",
      "http://somewhere#JimGonzalez http://www.w3.org/2001/vcard-rdf/3.0/Given Jim\n",
      "http://somewhere#http://www.w3.org/2001/vcard-rdf/3.0/Given http://www.w3.org/1999/02/22-rdf-syntax-ns#type http://www.w3.org/2000/01/rdf-schema#Datatype\n",
      "http://somewhere#RockySmith http://www.w3.org/2001/vcard-rdf/3.0/Family Smith\n",
      "http://somewhere#http://www.w3.org/2001/vcard-rdf/3.0/Family http://www.w3.org/2000/01/rdf-schema#range http://www.w3.org/2001/XMLSchema#string\n",
      "http://somewhere#Researcher http://www.w3.org/1999/02/22-rdf-syntax-ns#type http://www.w3.org/2000/01/rdf-schema#Class\n",
      "http://somewhere#JimGonzalez http://www.w3.org/2001/vcard-rdf/3.0/FN Jim Gonzalez\n",
      "http://somewhere#JaneSmith http://www.w3.org/2001/vcard-rdf/3.0/Family Smith\n",
      "http://somewhere#JohnSmith http://www.w3.org/1999/02/22-rdf-syntax-ns#type http://somewhere#Person\n",
      "http://somewhere#JimGonzalez http://www.w3.org/2001/vcard-rdf/3.0/Family Gonzalez\n",
      "http://somewhere#http://www.w3.org/2001/vcard-rdf/3.0/Given http://www.w3.org/2000/01/rdf-schema#range http://www.w3.org/2001/XMLSchema#string\n"
     ]
    }
   ],
   "source": [
    "from rdflib.plugins.sparql import prepareQuery\n",
    "\n",
    "for s, p, o in g:\n",
    "  print(s,p,o)"
   ]
  },
  {
   "cell_type": "code",
   "execution_count": 4,
   "metadata": {
    "id": "tRcSWuMHOXBl",
    "scrolled": true
   },
   "outputs": [
    {
     "name": "stdout",
     "output_type": "stream",
     "text": [
      "http://somewhere#Person\n",
      "http://somewhere#Animal\n",
      "http://somewhere#Researcher\n",
      "http://somewhere#Professor\n",
      "http://somewhere#PhDstudent\n"
     ]
    }
   ],
   "source": [
    "# TO DO\n",
    "# Visualize the results\n",
    "from rdflib.plugins.sparql import prepareQuery\n",
    "\n",
    "q1 = prepareQuery(\"\"\"\n",
    "    SELECT ?subClass\n",
    "    WHERE {\n",
    "        ?subClass rdfs:subClassOf/rdfs:subClassOf* ns:LivingThing.\n",
    "    }\n",
    "\"\"\", initNs={\"ns\": Namespace(\"http://somewhere#\"), \"rdfs\": RDFS})\n",
    "\n",
    "for r in g.query(q1):\n",
    "  print(r.subClass)"
   ]
  },
  {
   "cell_type": "markdown",
   "metadata": {
    "id": "gM3DASkTQQ5Y"
   },
   "source": [
    "**TASK 7.2: List all individuals of \"Person\" with RDFLib and SPARQL (remember the subClasses)**\n"
   ]
  },
  {
   "cell_type": "code",
   "execution_count": 5,
   "metadata": {
    "id": "LiKSPHRzS-XJ"
   },
   "outputs": [
    {
     "name": "stdout",
     "output_type": "stream",
     "text": [
      "http://somewhere#SaraJones\n",
      "http://somewhere#JohnSmith\n",
      "http://somewhere#JaneSmith\n",
      "http://somewhere#JimGonzalez\n"
     ]
    }
   ],
   "source": [
    "# TO DO\n",
    "# Visualize the results\n",
    "q1 = prepareQuery(\"\"\"\n",
    "    SELECT ?individuals\n",
    "    WHERE {\n",
    "        ?individuals rdf:type/rdfs:subClassOf* ns:Person.\n",
    "    }\n",
    "\"\"\", initNs={\"ns\": Namespace(\"http://somewhere#\"), \"rdf\": RDF, \"rdfs\": RDFS})\n",
    "\n",
    "for r in g.query(q1):\n",
    "  print(r.individuals)"
   ]
  },
  {
   "cell_type": "markdown",
   "metadata": {
    "id": "MXBqtBkJd22I"
   },
   "source": [
    "**TASK 7.3: List all individuals of \"Person\" or \"Animal\" and all their properties including their class with RDFLib and SPARQL. You do not need to list the individuals of the subclasses of person**\n"
   ]
  },
  {
   "cell_type": "code",
   "execution_count": 6,
   "metadata": {},
   "outputs": [
    {
     "name": "stdout",
     "output_type": "stream",
     "text": [
      "Individual:\n",
      "http://somewhere#RockySmith\n",
      "\tProperty\n",
      "\thttp://www.w3.org/1999/02/22-rdf-syntax-ns#type\n",
      "Individual:\n",
      "http://somewhere#RockySmith\n",
      "\tProperty\n",
      "\thttp://www.w3.org/2001/vcard-rdf/3.0/Given\n",
      "Individual:\n",
      "http://somewhere#RockySmith\n",
      "\tProperty\n",
      "\thttp://www.w3.org/2001/vcard-rdf/3.0/FN\n",
      "Individual:\n",
      "http://somewhere#RockySmith\n",
      "\tProperty\n",
      "\thttp://www.w3.org/2001/vcard-rdf/3.0/Family\n",
      "Individual:\n",
      "http://somewhere#RockySmith\n",
      "\tProperty\n",
      "\thttp://xmlns.com/foaf/0.1/knows\n",
      "Individual:\n",
      "http://somewhere#RockySmith\n",
      "\tProperty\n",
      "\thttp://xmlns.com/foaf/0.1/knows\n",
      "Individual:\n",
      "http://somewhere#SaraJones\n",
      "\tProperty\n",
      "\thttp://www.w3.org/1999/02/22-rdf-syntax-ns#type\n",
      "Individual:\n",
      "http://somewhere#SaraJones\n",
      "\tProperty\n",
      "\thttp://www.w3.org/2001/vcard-rdf/3.0/Given\n",
      "Individual:\n",
      "http://somewhere#SaraJones\n",
      "\tProperty\n",
      "\thttp://www.w3.org/2001/vcard-rdf/3.0/FN\n",
      "Individual:\n",
      "http://somewhere#SaraJones\n",
      "\tProperty\n",
      "\thttp://www.w3.org/2001/vcard-rdf/3.0/Family\n",
      "Individual:\n",
      "http://somewhere#SaraJones\n",
      "\tProperty\n",
      "\thttp://xmlns.com/foaf/0.1/knows\n",
      "Individual:\n",
      "http://somewhere#SaraJones\n",
      "\tProperty\n",
      "\thttp://xmlns.com/foaf/0.1/knows\n",
      "Individual:\n",
      "http://somewhere#JohnSmith\n",
      "\tProperty\n",
      "\thttp://www.w3.org/1999/02/22-rdf-syntax-ns#type\n",
      "Individual:\n",
      "http://somewhere#JohnSmith\n",
      "\tProperty\n",
      "\thttp://www.w3.org/2001/vcard-rdf/3.0/Given\n",
      "Individual:\n",
      "http://somewhere#JohnSmith\n",
      "\tProperty\n",
      "\thttp://www.w3.org/2001/vcard-rdf/3.0/FN\n",
      "Individual:\n",
      "http://somewhere#JohnSmith\n",
      "\tProperty\n",
      "\thttp://www.w3.org/2001/vcard-rdf/3.0/Family\n"
     ]
    }
   ],
   "source": [
    "# TO DO\n",
    "# Visualize the results\n",
    "q1 = prepareQuery(\"\"\"\n",
    "    SELECT ?individual ?property\n",
    "    WHERE {\n",
    "        ?individual rdf:type ?class.\n",
    "        FILTER (?class = ns:Person || ?class = ns:Animal)\n",
    "        ?individual ?property ?value.\n",
    "    }\n",
    "\"\"\", initNs={\"ns\": Namespace(\"http://somewhere#\"), \"rdf\": RDF})\n",
    "\n",
    "# Execute the query and print the results\n",
    "for r in g.query(q1):\n",
    "    print(\"Individual:\")\n",
    "    print(r.individual)\n",
    "    print(\"\\tProperty\")\n",
    "    print(\"\\t\"+r.property)  \n",
    "  \n"
   ]
  },
  {
   "cell_type": "markdown",
   "metadata": {
    "id": "3NyI7M2VNr9R"
   },
   "source": [
    "**TASK 7.4:  List the name of the persons who know Rocky**"
   ]
  },
  {
   "cell_type": "code",
   "execution_count": 7,
   "metadata": {},
   "outputs": [
    {
     "name": "stdout",
     "output_type": "stream",
     "text": [
      "http://somewhere#SaraJones\n",
      "http://somewhere#JaneSmith\n"
     ]
    }
   ],
   "source": [
    "# Define the SPARQL query\n",
    "q1 = prepareQuery(\"\"\"\n",
    "    SELECT ?person\n",
    "    WHERE {\n",
    "        ?person rdf:type/rdfs:subClassOf* ns:Person;\n",
    "         foaf:knows ns:RockySmith.\n",
    "    }\n",
    "\"\"\", initNs={\"ns\": Namespace(\"http://somewhere#\"), \n",
    "             \"vcard\": Namespace(\"http://www.w3.org/2001/vcard-rdf/3.0/\"), \n",
    "             \"foaf\": Namespace(\"http://xmlns.com/foaf/0.1/\"), \n",
    "             \"rdf\": RDF, \"rdfs\": RDFS})\n",
    "\n",
    "# Execute the query and print the results\n",
    "for r in g.query(q1):\n",
    "    print(r.person)\n"
   ]
  },
  {
   "cell_type": "markdown",
   "metadata": {
    "id": "kyjGsyxDPa2C"
   },
   "source": [
    "**Task 7.5: List the entities who know at least two other entities in the graph**"
   ]
  },
  {
   "cell_type": "code",
   "execution_count": 8,
   "metadata": {
    "id": "yoVwVZUAPaLm"
   },
   "outputs": [
    {
     "name": "stdout",
     "output_type": "stream",
     "text": [
      "http://somewhere#RockySmith\n",
      "http://somewhere#SaraJones\n",
      "http://somewhere#JaneSmith\n"
     ]
    }
   ],
   "source": [
    "# TO DO\n",
    "q2 = prepareQuery('''\n",
    "    SELECT ?entities \n",
    "    WHERE {\n",
    "        ?entities foaf:knows ?entity1;\n",
    "         foaf:knows ?entity2.\n",
    "        FILTER (?entity1 != ?entity2)\n",
    "    }\n",
    "    GROUP BY ?entities\n",
    "    HAVING ((COUNT(DISTINCT ?entity1) + COUNT(DISTINCT ?entity)) >= 2)\n",
    "    \n",
    "''', initNs={\"foaf\": Namespace(\"http://xmlns.com/foaf/0.1/\")})\n",
    "\n",
    "# Visualize the results\n",
    "for row in g.query(q2):\n",
    "    print(row.entities)"
   ]
  }
 ],
 "metadata": {
  "colab": {
   "provenance": []
  },
  "kernelspec": {
   "display_name": "Python 3",
   "language": "python",
   "name": "python3"
  },
  "language_info": {
   "codemirror_mode": {
    "name": "ipython",
    "version": 3
   },
   "file_extension": ".py",
   "mimetype": "text/x-python",
   "name": "python",
   "nbconvert_exporter": "python",
   "pygments_lexer": "ipython3",
   "version": "3.8.8"
  }
 },
 "nbformat": 4,
 "nbformat_minor": 1
}
