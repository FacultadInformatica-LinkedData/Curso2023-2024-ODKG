{
 "cells": [
  {
   "cell_type": "markdown",
   "metadata": {
    "colab_type": "text",
    "id": "rb2ewz-dC6GC"
   },
   "source": [
    "**Task 08: Completing missing data**"
   ]
  },
  {
   "cell_type": "code",
   "execution_count": 1,
   "metadata": {
    "colab": {},
    "colab_type": "code",
    "id": "0sQG2Y915Isp"
   },
   "outputs": [
    {
     "name": "stdout",
     "output_type": "stream",
     "text": [
      "Requirement already satisfied: rdflib in c:\\users\\irune\\anaconda3\\lib\\site-packages (7.0.0)\n",
      "Requirement already satisfied: isodate<0.7.0,>=0.6.0 in c:\\users\\irune\\anaconda3\\lib\\site-packages (from rdflib) (0.6.1)\n",
      "Requirement already satisfied: pyparsing<4,>=2.1.0 in c:\\users\\irune\\anaconda3\\lib\\site-packages (from rdflib) (2.4.7)\n",
      "Requirement already satisfied: six in c:\\users\\irune\\anaconda3\\lib\\site-packages (from isodate<0.7.0,>=0.6.0->rdflib) (1.15.0)\n"
     ]
    }
   ],
   "source": [
    "!pip install rdflib\n",
    "github_storage = \"https://raw.githubusercontent.com/FacultadInformatica-LinkedData/Curso2021-2022/master/Assignment4/course_materials\""
   ]
  },
  {
   "cell_type": "code",
   "execution_count": 2,
   "metadata": {
    "colab": {},
    "colab_type": "code",
    "id": "Jb4QeLue5NLr"
   },
   "outputs": [
    {
     "data": {
      "text/plain": [
       "<Graph identifier=Ndc58495429994ad190ca8a8b1a777650 (<class 'rdflib.graph.Graph'>)>"
      ]
     },
     "execution_count": 2,
     "metadata": {},
     "output_type": "execute_result"
    }
   ],
   "source": [
    "from rdflib import Graph, Namespace, Literal, URIRef\n",
    "g1 = Graph()\n",
    "g2 = Graph()\n",
    "g1.parse(github_storage+\"/rdf/data01.rdf\", format=\"xml\")\n",
    "g2.parse(github_storage+\"/rdf/data02.rdf\", format=\"xml\")"
   ]
  },
  {
   "cell_type": "markdown",
   "metadata": {
    "colab_type": "text",
    "id": "kxxKghwBElOm"
   },
   "source": [
    "Tarea: lista todos los elementos de la clase Person en el primer grafo (data01.rdf) y completa los campos (given name, family name y email) que puedan faltar con los datos del segundo grafo (data02.rdf). Puedes usar consultas SPARQL o iterar el grafo, o ambas cosas."
   ]
  },
  {
   "cell_type": "code",
   "execution_count": 3,
   "metadata": {},
   "outputs": [],
   "source": [
    "def listarElementosPersona():\n",
    "    q1 = prepareQuery(\"\"\"\n",
    "    SELECT ?individuals\n",
    "    WHERE {\n",
    "        ?individuals rdf:type ns:Person.\n",
    "        }\n",
    "    \"\"\", initNs={\"ns\": Namespace(\"http://data.org#\"), \"rdf\": RDF, \"rdfs\": RDFS})\n",
    "    individuals = []\n",
    "    for r in g1.query(q1):\n",
    "        individuals.append(r.individuals)\n",
    "        print(r.individuals)\n",
    "    \n",
    "    return individuals"
   ]
  },
  {
   "cell_type": "code",
   "execution_count": 4,
   "metadata": {},
   "outputs": [],
   "source": [
    "#I tried to do it in a loop but i couldn't pass the field correctly\n",
    "def SPARQLqueries():\n",
    "    q1 = prepareQuery(\"\"\"\n",
    "            SELECT ?value\n",
    "            WHERE {\n",
    "                ?individual vcard:Given ?value.\n",
    "            }\n",
    "            \"\"\", initNs={\"ns\": Namespace(\"http://data.org#\"), \"rdf\": RDF, \"rdfs\": RDFS,  \"vcard\":\"http://www.w3.org/2001/vcard-rdf/3.0#\"})\n",
    "\n",
    "    q2 = prepareQuery(\"\"\"\n",
    "                SELECT ?value\n",
    "                WHERE {\n",
    "                    ?individual vcard:Family ?value.\n",
    "                }\n",
    "                \"\"\", initNs={\"ns\": Namespace(\"http://data.org#\"), \"rdf\": RDF, \"rdfs\": RDFS,  \"vcard\":\"http://www.w3.org/2001/vcard-rdf/3.0#\"})\n",
    "\n",
    "    q3 = prepareQuery(\"\"\"\n",
    "                SELECT ?value\n",
    "                WHERE {\n",
    "                    ?individual vcard:EMAIL ?value.\n",
    "                }\n",
    "                \"\"\", initNs={\"ns\": Namespace(\"http://data.org#\"), \"rdf\": RDF, \"rdfs\": RDFS,  \"vcard\":\"http://www.w3.org/2001/vcard-rdf/3.0#\"})\n",
    "\n",
    "    return q1, q2, q3"
   ]
  },
  {
   "cell_type": "code",
   "execution_count": 5,
   "metadata": {},
   "outputs": [],
   "source": [
    "def addInGraph(individual, fieldN, value2):\n",
    "    if(fieldN == 0):\n",
    "        g1.add((individual, vcard.Given, value2))\n",
    "    elif(fieldN == 1):\n",
    "        g1.add((individual, vcard.Family, value2))\n",
    "    else:\n",
    "        g1.add((individual, vcard.EMAIL, value2))\n",
    "    return g1"
   ]
  },
  {
   "cell_type": "code",
   "execution_count": 6,
   "metadata": {
    "scrolled": true
   },
   "outputs": [
    {
     "name": "stdout",
     "output_type": "stream",
     "text": [
      "http://data.org#SaraJones\n",
      "http://data.org#JohnSmith\n",
      "http://data.org#JohnDoe\n",
      "http://data.org#HarryPotter\n",
      "Observing the individual\n",
      "http://data.org#SaraJones\n",
      "Valor2:\n",
      "\t\tSara\n",
      "DIFFERENT\n",
      "Valor2:\n",
      "\t\tJones\n",
      "DIFFERENT\n",
      "Valor2:\n",
      "\t\tsara.jones@data.org\n",
      "DIFFERENT\n",
      "Observing the individual\n",
      "http://data.org#JohnSmith\n",
      "Valor1:\n",
      "\t\tJohn\n",
      "Valor2:\n",
      "\t\tJohn\n",
      "EQUAL->we don't do anything\n",
      "Valor2:\n",
      "\t\tSmith\n",
      "DIFFERENT\n",
      "Valor1:\n",
      "\t\tj.smith@data.org\n",
      "Valor2:\n",
      "\t\tj.smith@data.org\n",
      "EQUAL->we don't do anything\n",
      "Observing the individual\n",
      "http://data.org#JohnDoe\n",
      "Valor2:\n",
      "\t\tJohn\n",
      "DIFFERENT\n",
      "Valor1:\n",
      "\t\tDoe\n",
      "Valor2:\n",
      "\t\tDoe\n",
      "EQUAL->we don't do anything\n",
      "Valor1:\n",
      "\t\tdoe@data.org\n",
      "Valor2:\n",
      "\t\tdoe@data.org\n",
      "EQUAL->we don't do anything\n",
      "Observing the individual\n",
      "http://data.org#HarryPotter\n",
      "Valor1:\n",
      "\t\tHarry\n",
      "Valor2:\n",
      "\t\tHarry\n",
      "EQUAL->we don't do anything\n",
      "Valor1:\n",
      "\t\tPotter\n",
      "DIFFERENT\n",
      "Valor2:\n",
      "\t\thpotter@hogwarts.org\n",
      "DIFFERENT\n"
     ]
    }
   ],
   "source": [
    "from rdflib.plugins.sparql import prepareQuery\n",
    "from rdflib.namespace import RDF, RDFS\n",
    "from rdflib import XSD\n",
    "vcard = Namespace(\"http://www.w3.org/2001/vcard-rdf/3.0#\")\n",
    "individuals = listarElementosPersona()\n",
    "\n",
    "#lista todos los elementos de la clase Person en el primer grafo (data01.rdf)\n",
    "\n",
    "\n",
    "queries = SPARQLqueries()\n",
    "\n",
    "\n",
    "for individual in individuals:\n",
    "    print(\"Observing the individual\")\n",
    "    print( individual)\n",
    "    value1 = value2= None\n",
    "    \n",
    "    for i, q in enumerate(queries):\n",
    "        for r1 in g1.query(q, initBindings={ \"individual\":individual}):\n",
    "            print(\"Valor1:\")\n",
    "            print(\"\\t\\t\"+r1.value)\n",
    "            value1 = r1.value\n",
    "        for r2 in g2.query(q, initBindings={ \"individual\":individual}):\n",
    "            print(\"Valor2:\")\n",
    "            print(\"\\t\\t\"+r2.value)\n",
    "            value2 = r2.value\n",
    "        if value1 != value2:\n",
    "            print(\"DIFFERENT\")\n",
    "            addInGraph(individual, i, value2)\n",
    "\n",
    "        else:\n",
    "            print(\"EQUAL->we don't do anything\")\n"
   ]
  }
 ],
 "metadata": {
  "colab": {
   "collapsed_sections": [],
   "name": "Task08.ipynb",
   "provenance": []
  },
  "kernelspec": {
   "display_name": "Python 3",
   "language": "python",
   "name": "python3"
  },
  "language_info": {
   "codemirror_mode": {
    "name": "ipython",
    "version": 3
   },
   "file_extension": ".py",
   "mimetype": "text/x-python",
   "name": "python",
   "nbconvert_exporter": "python",
   "pygments_lexer": "ipython3",
   "version": "3.8.8"
  }
 },
 "nbformat": 4,
 "nbformat_minor": 1
}
