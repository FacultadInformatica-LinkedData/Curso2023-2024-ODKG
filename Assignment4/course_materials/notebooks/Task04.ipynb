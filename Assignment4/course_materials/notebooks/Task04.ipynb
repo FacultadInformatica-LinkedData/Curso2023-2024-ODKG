{
 "cells": [
  {
   "cell_type": "markdown",
   "metadata": {
    "colab_type": "text",
    "id": "bSxs0offXU_C"
   },
   "source": [
    "**Task 04: Graph querying**"
   ]
  },
  {
   "cell_type": "code",
   "execution_count": 1,
   "metadata": {
    "colab": {
     "base_uri": "https://localhost:8080/",
     "height": 191
    },
    "colab_type": "code",
    "executionInfo": {
     "elapsed": 4693,
     "status": "ok",
     "timestamp": 1600041647447,
     "user": {
      "displayName": "D D",
      "photoUrl": "https://lh3.googleusercontent.com/a-/AOh14Gh6T1hnprK5j2SM-Y3y4pgVo02G8ksIIlcrc3t3fA=s64",
      "userId": "13287914887952271965"
     },
     "user_tz": -120
    },
    "id": "eEaNOAcHW8He",
    "outputId": "93ac7ee4-a057-4537-ddb1-6b1d8586b892"
   },
   "outputs": [
    {
     "name": "stdout",
     "output_type": "stream",
     "text": [
      "Requirement already satisfied: rdflib in /home/dgarijo/Documents/GitHub/Curso2021-2022/env_3.9/lib/python3.9/site-packages (6.0.1)\n",
      "Requirement already satisfied: pyparsing in /home/dgarijo/Documents/GitHub/Curso2021-2022/env_3.9/lib/python3.9/site-packages (from rdflib) (2.4.7)\n",
      "Requirement already satisfied: isodate in /home/dgarijo/Documents/GitHub/Curso2021-2022/env_3.9/lib/python3.9/site-packages (from rdflib) (0.6.0)\n",
      "Requirement already satisfied: setuptools in /home/dgarijo/Documents/GitHub/Curso2021-2022/env_3.9/lib/python3.9/site-packages (from rdflib) (44.1.1)\n",
      "Requirement already satisfied: six in /home/dgarijo/Documents/GitHub/Curso2021-2022/env_3.9/lib/python3.9/site-packages (from isodate->rdflib) (1.16.0)\n"
     ]
    }
   ],
   "source": [
    "!pip install rdflib\n",
    "github_storage = \"https://raw.githubusercontent.com/FacultadInformatica-LinkedData/Curso2021-2022/master/Assignment4/course_materials\""
   ]
  },
  {
   "cell_type": "code",
   "execution_count": 2,
   "metadata": {
    "colab": {
     "base_uri": "https://localhost:8080/",
     "height": 34
    },
    "colab_type": "code",
    "executionInfo": {
     "elapsed": 1718,
     "status": "ok",
     "timestamp": 1600041648140,
     "user": {
      "displayName": "D D",
      "photoUrl": "https://lh3.googleusercontent.com/a-/AOh14Gh6T1hnprK5j2SM-Y3y4pgVo02G8ksIIlcrc3t3fA=s64",
      "userId": "13287914887952271965"
     },
     "user_tz": -120
    },
    "id": "UqDyQeinXUxT",
    "outputId": "f165a6aa-31af-4f1c-8cd5-3da2c08a1c25"
   },
   "outputs": [
    {
     "data": {
      "text/plain": [
       "<Graph identifier=Nfb09f4809d3940d98c2e00a0f4426ec5 (<class 'rdflib.graph.Graph'>)>"
      ]
     },
     "execution_count": 2,
     "metadata": {},
     "output_type": "execute_result"
    }
   ],
   "source": [
    "from rdflib import Graph, Namespace, Literal\n",
    "g = Graph()\n",
    "g.parse(github_storage+\"/rdf/example3.rdf\", format=\"xml\")"
   ]
  },
  {
   "cell_type": "markdown",
   "metadata": {
    "colab_type": "text",
    "id": "vx7JZWjj6oZu"
   },
   "source": [
    "Listamos todos los recursos que contienen la propiedad VCARD:FN"
   ]
  },
  {
   "cell_type": "code",
   "execution_count": 14,
   "metadata": {
    "colab": {
     "base_uri": "https://localhost:8080/",
     "height": 86
    },
    "colab_type": "code",
    "executionInfo": {
     "elapsed": 535,
     "status": "ok",
     "timestamp": 1599647895878,
     "user": {
      "displayName": "D D",
      "photoUrl": "https://lh3.googleusercontent.com/a-/AOh14Gh6T1hnprK5j2SM-Y3y4pgVo02G8ksIIlcrc3t3fA=s64",
      "userId": "13287914887952271965"
     },
     "user_tz": -120
    },
    "id": "iSQog8i6XiI2",
    "outputId": "fff319ab-23c1-4e32-877a-84d6ba369292"
   },
   "outputs": [
    {
     "name": "stdout",
     "output_type": "stream",
     "text": [
      "http://somewhere#JaneSmith\n",
      "http://somewhere#JohnSmith\n",
      "http://somewhere#SarahJones\n",
      "http://somewhere#MattJones\n"
     ]
    }
   ],
   "source": [
    "from rdflib.plugins.sparql import prepareQuery\n",
    "\n",
    "\n",
    "VCARD = Namespace(\"http://www.w3.org/2001/vcard-rdf/3.0#\")\n",
    "\n",
    "\n",
    "q1 = prepareQuery('''\n",
    "  SELECT ?Subject WHERE { \n",
    "    ?Subject vcard:FN ?FullName. \n",
    "  }\n",
    "  ''',\n",
    "  initNs = { \"vcard\": VCARD}\n",
    ")\n",
    "\n",
    "\n",
    "for r in g.query(q1):\n",
    "  print(r.Subject)"
   ]
  },
  {
   "cell_type": "markdown",
   "metadata": {
    "colab_type": "text",
    "id": "ZAXn1nMO6vlp"
   },
   "source": [
    "Repetimos la anterior consulta, pero pidiendo ahora además los nombres completos de los sujetos"
   ]
  },
  {
   "cell_type": "code",
   "execution_count": 13,
   "metadata": {
    "colab": {
     "base_uri": "https://localhost:8080/",
     "height": 86
    },
    "colab_type": "code",
    "executionInfo": {
     "elapsed": 515,
     "status": "ok",
     "timestamp": 1599647954161,
     "user": {
      "displayName": "D D",
      "photoUrl": "https://lh3.googleusercontent.com/a-/AOh14Gh6T1hnprK5j2SM-Y3y4pgVo02G8ksIIlcrc3t3fA=s64",
      "userId": "13287914887952271965"
     },
     "user_tz": -120
    },
    "id": "R4BKqgkpcVgf",
    "outputId": "0c0819bb-a59b-495b-b9b5-913868a9b91f"
   },
   "outputs": [
    {
     "name": "stdout",
     "output_type": "stream",
     "text": [
      "http://somewhere#JaneSmith Jane Smith\n",
      "http://somewhere#JohnSmith John Smith\n",
      "http://somewhere#SarahJones Sarah Jones\n",
      "http://somewhere#MattJones Matt Jones\n"
     ]
    }
   ],
   "source": [
    "q2 = prepareQuery('''\n",
    "  SELECT ?Subject ?FullName WHERE { \n",
    "    ?Subject vcard:FN ?FullName.\n",
    "  } \n",
    "  ''',\n",
    "  initNs = { \"vcard\": VCARD}\n",
    ")\n",
    "\n",
    "for r in g.query(q2):\n",
    "  print(r.Subject, r.FullName)"
   ]
  },
  {
   "cell_type": "markdown",
   "metadata": {
    "colab_type": "text",
    "id": "09HdH0eG68Dd"
   },
   "source": [
    "Obtenemos todos los recursos que contienen \"Smith\" como nombre de familia"
   ]
  },
  {
   "cell_type": "code",
   "execution_count": 10,
   "metadata": {
    "colab": {
     "base_uri": "https://localhost:8080/",
     "height": 52
    },
    "colab_type": "code",
    "executionInfo": {
     "elapsed": 427,
     "status": "ok",
     "timestamp": 1599648214741,
     "user": {
      "displayName": "D D",
      "photoUrl": "https://lh3.googleusercontent.com/a-/AOh14Gh6T1hnprK5j2SM-Y3y4pgVo02G8ksIIlcrc3t3fA=s64",
      "userId": "13287914887952271965"
     },
     "user_tz": -120
    },
    "id": "sPGjq-AEcvEN",
    "outputId": "78c357de-ebc7-4195-af6c-0cf2b0bcffa5"
   },
   "outputs": [
    {
     "name": "stdout",
     "output_type": "stream",
     "text": [
      "http://somewhere#JaneSmith\n",
      "http://somewhere#JohnSmith\n"
     ]
    }
   ],
   "source": [
    "from rdflib import XSD\n",
    "\n",
    "q3 = prepareQuery('''\n",
    "  SELECT ?Subject WHERE { \n",
    "    ?Subject vcard:Family ?Family.\n",
    "  } \n",
    "  ''',\n",
    "  initNs = { \"vcard\": VCARD}\n",
    ")\n",
    "\n",
    "for r in g.query(q3, initBindings = {'?Family' : Literal('Smith', datatype=XSD.string)}):\n",
    "  print(r.Subject)"
   ]
  },
  {
   "cell_type": "markdown",
   "metadata": {
    "colab_type": "text",
    "id": "3ZoGdkYW7Fuj"
   },
   "source": [
    "Obtenemos todos los elementos que contienen un email asociado"
   ]
  },
  {
   "cell_type": "code",
   "execution_count": 11,
   "metadata": {
    "colab": {
     "base_uri": "https://localhost:8080/",
     "height": 52
    },
    "colab_type": "code",
    "executionInfo": {
     "elapsed": 438,
     "status": "ok",
     "timestamp": 1599648457094,
     "user": {
      "displayName": "D D",
      "photoUrl": "https://lh3.googleusercontent.com/a-/AOh14Gh6T1hnprK5j2SM-Y3y4pgVo02G8ksIIlcrc3t3fA=s64",
      "userId": "13287914887952271965"
     },
     "user_tz": -120
    },
    "id": "0cM7u_jpeQVt",
    "outputId": "400373d6-15e5-4c29-e567-d0d0e63100a4"
   },
   "outputs": [
    {
     "name": "stdout",
     "output_type": "stream",
     "text": [
      "http://somewhere#JaneSmith jSmith@somewhere.com\n",
      "http://somewhere#SarahJones sJones@somewhere.com\n"
     ]
    }
   ],
   "source": [
    "from rdflib import FOAF\n",
    "\n",
    "q4 = prepareQuery('''\n",
    "  SELECT ?Subject ?Email WHERE { \n",
    "    ?Subject foaf:email ?Email.\n",
    "  } \n",
    "  ''',\n",
    "  initNs = { \"foaf\": FOAF}\n",
    ")\n",
    "\n",
    "for r in g.query(q4):\n",
    "  print(r.Subject,r.Email)"
   ]
  },
  {
   "cell_type": "markdown",
   "metadata": {
    "colab_type": "text",
    "id": "OAMYrwd57E_Y"
   },
   "source": [
    "Consultamos todos los que conocen (FOAF:knows) a \"Jane Smith\" y obtenemos sus nombres de pila (VCARD:Given)"
   ]
  },
  {
   "cell_type": "code",
   "execution_count": 12,
   "metadata": {
    "colab": {
     "base_uri": "https://localhost:8080/",
     "height": 52
    },
    "colab_type": "code",
    "executionInfo": {
     "elapsed": 929,
     "status": "ok",
     "timestamp": 1599650269423,
     "user": {
      "displayName": "D D",
      "photoUrl": "https://lh3.googleusercontent.com/a-/AOh14Gh6T1hnprK5j2SM-Y3y4pgVo02G8ksIIlcrc3t3fA=s64",
      "userId": "13287914887952271965"
     },
     "user_tz": -120
    },
    "id": "L-i2jJahkhuN",
    "outputId": "ef977c72-04d4-4d69-9fe6-cf5ff2dee2e9"
   },
   "outputs": [
    {
     "name": "stdout",
     "output_type": "stream",
     "text": [
      "http://somewhere#JohnSmith John\n",
      "http://somewhere#MattJones Matt\n"
     ]
    }
   ],
   "source": [
    "q5 = prepareQuery('''\n",
    "  SELECT  ?Subject ?Given  WHERE {\n",
    "    ?Subject foaf:knows ?JaneSmith.\n",
    "\t?JaneSmith vcard:FN ?JaneSmithFullName.\n",
    "\t?Subject vcard:Given ?Given.\n",
    "  }  \n",
    "  ''',\n",
    "  initNs = { \"foaf\": FOAF, \"vcard\": VCARD, \"xsd\":XSD}\n",
    ")\n",
    "\n",
    "for r in g.query(q5, initBindings = {'?JaneSmithFullName' : Literal('Jane Smith', datatype=XSD.string)}):\n",
    "  print(r.Subject, r.Given)"
   ]
  },
  {
   "cell_type": "code",
   "execution_count": null,
   "metadata": {},
   "outputs": [],
   "source": []
  }
 ],
 "metadata": {
  "colab": {
   "authorship_tag": "ABX9TyMmW28VZItB7oAPdjSO8pyX",
   "collapsed_sections": [],
   "name": "Task04.ipynb",
   "provenance": []
  },
  "kernelspec": {
   "display_name": "Python 3 (ipykernel)",
   "language": "python",
   "name": "python3"
  },
  "language_info": {
   "codemirror_mode": {
    "name": "ipython",
    "version": 3
   },
   "file_extension": ".py",
   "mimetype": "text/x-python",
   "name": "python",
   "nbconvert_exporter": "python",
   "pygments_lexer": "ipython3",
   "version": "3.9.5"
  }
 },
 "nbformat": 4,
 "nbformat_minor": 1
}
