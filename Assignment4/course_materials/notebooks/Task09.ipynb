{
 "cells": [
  {
   "cell_type": "markdown",
   "metadata": {
    "colab_type": "text",
    "id": "wIhJ69byU2Ad"
   },
   "source": [
    "**Task 09: Data linking**"
   ]
  },
  {
   "cell_type": "code",
   "execution_count": 1,
   "metadata": {
    "colab": {},
    "colab_type": "code",
    "id": "0sQG2Y915Isp"
   },
   "outputs": [
    {
     "name": "stdout",
     "output_type": "stream",
     "text": [
      "Requirement already satisfied: rdflib in d:\\anaconda\\lib\\site-packages (7.0.0)\n",
      "Requirement already satisfied: isodate<0.7.0,>=0.6.0 in d:\\anaconda\\lib\\site-packages (from rdflib) (0.6.1)\n",
      "Requirement already satisfied: pyparsing<4,>=2.1.0 in d:\\anaconda\\lib\\site-packages (from rdflib) (3.0.9)\n",
      "Requirement already satisfied: six in d:\\anaconda\\lib\\site-packages (from isodate<0.7.0,>=0.6.0->rdflib) (1.16.0)\n"
     ]
    }
   ],
   "source": [
    "!pip install rdflib\n",
    "github_storage = \"https://raw.githubusercontent.com/FacultadInformatica-LinkedData/Curso2021-2022/master/Assignment4/course_materials/\""
   ]
  },
  {
   "cell_type": "code",
   "execution_count": 13,
   "metadata": {
    "colab": {},
    "colab_type": "code",
    "id": "Jb4QeLue5NLr"
   },
   "outputs": [
    {
     "data": {
      "text/plain": [
       "<Graph identifier=Nbc9bef36ed664915936efad59ba48235 (<class 'rdflib.graph.Graph'>)>"
      ]
     },
     "execution_count": 13,
     "metadata": {},
     "output_type": "execute_result"
    }
   ],
   "source": [
    "from rdflib import Graph, Namespace, Literal, URIRef\n",
    "from rdflib.namespace import OWL\n",
    "g1 = Graph()\n",
    "g2 = Graph()\n",
    "g3 = Graph()\n",
    "g1.parse(github_storage+\"rdf/data03.rdf\", format=\"xml\")\n",
    "g2.parse(github_storage+\"rdf/data04.rdf\", format=\"xml\")"
   ]
  },
  {
   "cell_type": "markdown",
   "metadata": {
    "colab_type": "text",
    "id": "5wfBZiQSU827"
   },
   "source": [
    "Busca individuos en los dos grafos y enlázalos mediante la propiedad OWL:sameAs, inserta estas coincidencias en g3. Consideramos dos individuos iguales si tienen el mismo apodo y nombre de familia. Ten en cuenta que las URI no tienen por qué ser iguales para un mismo individuo en los dos grafos."
   ]
  },
  {
   "cell_type": "code",
   "execution_count": 3,
   "metadata": {
    "colab": {},
    "colab_type": "code",
    "id": "yF5KHy7vU9ot"
   },
   "outputs": [
    {
     "name": "stdout",
     "output_type": "stream",
     "text": [
      "Collecting ontospy\n",
      "  Downloading ontospy-2.1.1-py3-none-any.whl (3.9 MB)\n",
      "                                              0.0/3.9 MB ? eta -:--:--\n",
      "     ----                                     0.5/3.9 MB 10.0 MB/s eta 0:00:01\n",
      "     ---------                                0.9/3.9 MB 11.3 MB/s eta 0:00:01\n",
      "     --------------                           1.4/3.9 MB 9.8 MB/s eta 0:00:01\n",
      "     -------------------                      1.9/3.9 MB 11.1 MB/s eta 0:00:01\n",
      "     ---------------------                    2.1/3.9 MB 11.1 MB/s eta 0:00:01\n",
      "     -----------------------                  2.3/3.9 MB 8.2 MB/s eta 0:00:01\n",
      "     --------------------------               2.5/3.9 MB 7.7 MB/s eta 0:00:01\n",
      "     -------------------------------          3.0/3.9 MB 8.3 MB/s eta 0:00:01\n",
      "     -----------------------------------      3.4/3.9 MB 8.7 MB/s eta 0:00:01\n",
      "     ---------------------------------------  3.8/3.9 MB 8.7 MB/s eta 0:00:01\n",
      "     ---------------------------------------  3.9/3.9 MB 8.8 MB/s eta 0:00:01\n",
      "     ---------------------------------------- 3.9/3.9 MB 7.7 MB/s eta 0:00:00\n",
      "Requirement already satisfied: rdflib in d:\\anaconda\\lib\\site-packages (from ontospy) (7.0.0)\n",
      "Collecting SPARQLWrapper (from ontospy)\n",
      "  Downloading SPARQLWrapper-2.0.0-py3-none-any.whl (28 kB)\n",
      "Collecting html5lib (from ontospy)\n",
      "  Downloading html5lib-1.1-py2.py3-none-any.whl (112 kB)\n",
      "                                              0.0/112.2 kB ? eta -:--:--\n",
      "     -------------------------------------- 112.2/112.2 kB 6.4 MB/s eta 0:00:00\n",
      "Requirement already satisfied: requests in d:\\anaconda\\lib\\site-packages (from ontospy) (2.29.0)\n",
      "Collecting pyfiglet (from ontospy)\n",
      "  Downloading pyfiglet-1.0.2-py3-none-any.whl (1.1 MB)\n",
      "                                              0.0/1.1 MB ? eta -:--:--\n",
      "     -----------------                        0.5/1.1 MB 9.8 MB/s eta 0:00:01\n",
      "     --------------------------               0.7/1.1 MB 11.1 MB/s eta 0:00:01\n",
      "     ---------------------------------------  1.1/1.1 MB 9.8 MB/s eta 0:00:01\n",
      "     ---------------------------------------- 1.1/1.1 MB 8.6 MB/s eta 0:00:00\n",
      "Requirement already satisfied: click in d:\\anaconda\\lib\\site-packages (from ontospy) (8.0.4)\n",
      "Requirement already satisfied: colorama in d:\\anaconda\\lib\\site-packages (from ontospy) (0.4.6)\n",
      "Requirement already satisfied: pyparsing in d:\\anaconda\\lib\\site-packages (from ontospy) (3.0.9)\n",
      "Requirement already satisfied: jinja2 in d:\\anaconda\\lib\\site-packages (from ontospy) (3.1.2)\n",
      "Requirement already satisfied: jinja2-time in d:\\anaconda\\lib\\site-packages (from ontospy) (0.2.0)\n",
      "Requirement already satisfied: pygments in d:\\anaconda\\lib\\site-packages (from ontospy) (2.15.1)\n",
      "Requirement already satisfied: six>=1.9 in d:\\anaconda\\lib\\site-packages (from html5lib->ontospy) (1.16.0)\n",
      "Requirement already satisfied: webencodings in d:\\anaconda\\lib\\site-packages (from html5lib->ontospy) (0.5.1)\n",
      "Requirement already satisfied: MarkupSafe>=2.0 in d:\\anaconda\\lib\\site-packages (from jinja2->ontospy) (2.1.1)\n",
      "Requirement already satisfied: arrow in d:\\anaconda\\lib\\site-packages (from jinja2-time->ontospy) (1.2.3)\n",
      "Requirement already satisfied: isodate<0.7.0,>=0.6.0 in d:\\anaconda\\lib\\site-packages (from rdflib->ontospy) (0.6.1)\n",
      "Requirement already satisfied: charset-normalizer<4,>=2 in d:\\anaconda\\lib\\site-packages (from requests->ontospy) (2.0.4)\n",
      "Requirement already satisfied: idna<4,>=2.5 in d:\\anaconda\\lib\\site-packages (from requests->ontospy) (3.4)\n",
      "Requirement already satisfied: urllib3<1.27,>=1.21.1 in d:\\anaconda\\lib\\site-packages (from requests->ontospy) (1.26.16)\n",
      "Requirement already satisfied: certifi>=2017.4.17 in d:\\anaconda\\lib\\site-packages (from requests->ontospy) (2023.7.22)\n",
      "Requirement already satisfied: python-dateutil>=2.7.0 in d:\\anaconda\\lib\\site-packages (from arrow->jinja2-time->ontospy) (2.8.2)\n",
      "Installing collected packages: pyfiglet, html5lib, SPARQLWrapper, ontospy\n",
      "Successfully installed SPARQLWrapper-2.0.0 html5lib-1.1 ontospy-2.1.1 pyfiglet-1.0.2\n"
     ]
    }
   ],
   "source": [
    "!pip install ontospy"
   ]
  },
  {
   "cell_type": "code",
   "execution_count": 9,
   "metadata": {},
   "outputs": [
    {
     "name": "stdout",
     "output_type": "stream",
     "text": [
      "http://data.three.org#SaraJones http://www.w3.org/2001/vcard-rdf/3.0#FN Sara Jones\n",
      "http://data.three.org#JohnSmith http://www.w3.org/2001/vcard-rdf/3.0#FN John Smith\n",
      "http://data.three.org#JohnDoe http://www.w3.org/2001/vcard-rdf/3.0#FN John Doe\n",
      "http://data.three.org#HarryPotter http://www.w3.org/2001/vcard-rdf/3.0#FN Harry Potter\n"
     ]
    }
   ],
   "source": [
    "for s, p, o in g1.triples((None, VCARD.FN, None)):\n",
    "  print(s,p,o)"
   ]
  },
  {
   "cell_type": "code",
   "execution_count": 10,
   "metadata": {},
   "outputs": [
    {
     "name": "stdout",
     "output_type": "stream",
     "text": [
      "http://data.four.org#0001 http://www.w3.org/2001/vcard-rdf/3.0#FN Sara Jones\n",
      "http://data.four.org#0002 http://www.w3.org/2001/vcard-rdf/3.0#FN John Smith\n",
      "http://data.four.org#0003 http://www.w3.org/2001/vcard-rdf/3.0#FN Harry Potter\n",
      "http://data.four.org#0004 http://www.w3.org/2001/vcard-rdf/3.0#FN Tim Berners Lee\n",
      "http://data.four.org#0005 http://www.w3.org/2001/vcard-rdf/3.0#FN John Doe\n"
     ]
    }
   ],
   "source": [
    "for s, p, o in g2.triples((None, VCARD.FN, None)):\n",
    "  print(s,p,o)"
   ]
  },
  {
   "cell_type": "code",
   "execution_count": 16,
   "metadata": {},
   "outputs": [
    {
     "name": "stdout",
     "output_type": "stream",
     "text": [
      "http://data.three.org#SaraJones http://www.w3.org/2001/vcard-rdf/3.0#FN Sara Jones 1\n",
      "http://data.four.org#0001 http://www.w3.org/2001/vcard-rdf/3.0#FN Sara Jones 2\n",
      "http://data.three.org#SaraJones http://data.four.org#0001\n",
      "http://data.three.org#JohnSmith http://www.w3.org/2001/vcard-rdf/3.0#FN John Smith 1\n",
      "http://data.four.org#0002 http://www.w3.org/2001/vcard-rdf/3.0#FN John Smith 2\n",
      "http://data.three.org#JohnSmith http://data.four.org#0002\n",
      "http://data.three.org#JohnDoe http://www.w3.org/2001/vcard-rdf/3.0#FN John Doe 1\n",
      "http://data.four.org#0005 http://www.w3.org/2001/vcard-rdf/3.0#FN John Doe 2\n",
      "http://data.three.org#JohnDoe http://data.four.org#0005\n",
      "http://data.three.org#HarryPotter http://www.w3.org/2001/vcard-rdf/3.0#FN Harry Potter 1\n",
      "http://data.four.org#0003 http://www.w3.org/2001/vcard-rdf/3.0#FN Harry Potter 2\n",
      "http://data.three.org#HarryPotter http://data.four.org#0003\n"
     ]
    }
   ],
   "source": [
    "from ontospy import Ontospy\n",
    "\n",
    "VCARD = Namespace(\"http://www.w3.org/2001/vcard-rdf/3.0#\")\n",
    "\n",
    "for s1, p1, o1 in g1.triples((None, VCARD.FN, None)):\n",
    "    print(s1,p1,o1,\"1\")\n",
    "    for s2, p2, o2 in g2.triples((None, VCARD.FN, None)):\n",
    "        \n",
    "        if o1==o2:\n",
    "            g3.add((s1, OWL.sameAs, s2))\n",
    "            print(s2,p2,o2,\"2\")\n",
    "            print(s1,s2)\n",
    "            "
   ]
  },
  {
   "cell_type": "code",
   "execution_count": null,
   "metadata": {},
   "outputs": [],
   "source": []
  }
 ],
 "metadata": {
  "colab": {
   "collapsed_sections": [],
   "name": "Task09.ipynb",
   "provenance": []
  },
  "kernelspec": {
   "display_name": "Python 3 (ipykernel)",
   "language": "python",
   "name": "python3"
  },
  "language_info": {
   "codemirror_mode": {
    "name": "ipython",
    "version": 3
   },
   "file_extension": ".py",
   "mimetype": "text/x-python",
   "name": "python",
   "nbconvert_exporter": "python",
   "pygments_lexer": "ipython3",
   "version": "3.11.3"
  }
 },
 "nbformat": 4,
 "nbformat_minor": 1
}
