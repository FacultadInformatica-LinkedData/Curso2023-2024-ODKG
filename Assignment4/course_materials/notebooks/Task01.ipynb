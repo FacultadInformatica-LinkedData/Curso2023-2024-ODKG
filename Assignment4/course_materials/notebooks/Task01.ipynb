{
 "cells": [
  {
   "cell_type": "markdown",
   "metadata": {
    "colab_type": "text",
    "id": "AWikSwbrWIXK"
   },
   "source": [
    "**Task 01: Reading and writing RDF files**"
   ]
  },
  {
   "cell_type": "markdown",
   "metadata": {
    "colab_type": "text",
    "id": "70tP7Rc1c-XK"
   },
   "source": [
    "Leer y escribir ficheros que contienen tripletas es muy sencillo en RDFlib, para ello vamos a emplear dos métodos de la librería: parse y serialize."
   ]
  },
  {
   "cell_type": "code",
   "execution_count": 2,
   "metadata": {
    "colab": {
     "base_uri": "https://localhost:8080/",
     "height": 191
    },
    "colab_type": "code",
    "executionInfo": {
     "elapsed": 4796,
     "status": "ok",
     "timestamp": 1600032250530,
     "user": {
      "displayName": "D D",
      "photoUrl": "https://lh3.googleusercontent.com/a-/AOh14Gh6T1hnprK5j2SM-Y3y4pgVo02G8ksIIlcrc3t3fA=s64",
      "userId": "13287914887952271965"
     },
     "user_tz": -120
    },
    "id": "tRpigrTicjCp",
    "outputId": "7b4be69a-bd3f-4524-f6ce-c23c95d95065"
   },
   "outputs": [
    {
     "name": "stdout",
     "output_type": "stream",
     "text": [
      "Requirement already satisfied: rdflib in /home/dgarijo/Documents/GitHub/Curso2021-2022/env_3.9/lib/python3.9/site-packages (6.0.1)\r\n",
      "Requirement already satisfied: pyparsing in /home/dgarijo/Documents/GitHub/Curso2021-2022/env_3.9/lib/python3.9/site-packages (from rdflib) (2.4.7)\r\n",
      "Requirement already satisfied: isodate in /home/dgarijo/Documents/GitHub/Curso2021-2022/env_3.9/lib/python3.9/site-packages (from rdflib) (0.6.0)\r\n",
      "Requirement already satisfied: setuptools in /home/dgarijo/Documents/GitHub/Curso2021-2022/env_3.9/lib/python3.9/site-packages (from rdflib) (44.1.1)\r\n",
      "Requirement already satisfied: six in /home/dgarijo/Documents/GitHub/Curso2021-2022/env_3.9/lib/python3.9/site-packages (from isodate->rdflib) (1.16.0)\r\n"
     ]
    }
   ],
   "source": [
    "!pip install rdflib\n",
    "github_storage = \"https://raw.githubusercontent.com/FacultadInformatica-LinkedData/Curso2021-2022/master/Assignment4/course_materials\""
   ]
  },
  {
   "cell_type": "code",
   "execution_count": 3,
   "metadata": {
    "colab": {},
    "colab_type": "code",
    "executionInfo": {
     "elapsed": 982,
     "status": "ok",
     "timestamp": 1600032250904,
     "user": {
      "displayName": "D D",
      "photoUrl": "https://lh3.googleusercontent.com/a-/AOh14Gh6T1hnprK5j2SM-Y3y4pgVo02G8ksIIlcrc3t3fA=s64",
      "userId": "13287914887952271965"
     },
     "user_tz": -120
    },
    "id": "GzJopjNmdzDu"
   },
   "outputs": [],
   "source": [
    "from rdflib import Graph, Namespace, Literal\n",
    "g = Graph()"
   ]
  },
  {
   "cell_type": "markdown",
   "metadata": {
    "colab_type": "text",
    "id": "cxZdZ6jveaUz"
   },
   "source": [
    "Podemos añadir tripletas a nuestro grafo empleando serialize, que leerá el recurso proporcionado. Debemos además indicarle el formato si este no puede ser inferido."
   ]
  },
  {
   "cell_type": "code",
   "execution_count": 5,
   "metadata": {
    "colab": {
     "base_uri": "https://localhost:8080/",
     "height": 34
    },
    "colab_type": "code",
    "executionInfo": {
     "elapsed": 854,
     "status": "ok",
     "timestamp": 1600032252013,
     "user": {
      "displayName": "D D",
      "photoUrl": "https://lh3.googleusercontent.com/a-/AOh14Gh6T1hnprK5j2SM-Y3y4pgVo02G8ksIIlcrc3t3fA=s64",
      "userId": "13287914887952271965"
     },
     "user_tz": -120
    },
    "id": "abJYz_Bqerp3",
    "outputId": "488445da-51bb-4d5b-c8b1-da6dc3f988ba"
   },
   "outputs": [
    {
     "data": {
      "text/plain": [
       "<Graph identifier=Ncac33e4065db4a1a9d6ab4051394180f (<class 'rdflib.graph.Graph'>)>"
      ]
     },
     "execution_count": 5,
     "metadata": {},
     "output_type": "execute_result"
    }
   ],
   "source": [
    "g.parse(github_storage+\"/rdf/example1.rdf\", format=\"xml\")"
   ]
  },
  {
   "cell_type": "markdown",
   "metadata": {
    "colab_type": "text",
    "id": "e1XLg8xrestH"
   },
   "source": [
    "El recurso puede ser local o remoto, como en nuestro caso. El resultado es el mismo. Podemos añadir todos los datos que queramos a nuestro grafo, los datos simplemente se irán fusionando.\n"
   ]
  },
  {
   "cell_type": "code",
   "execution_count": 7,
   "metadata": {
    "colab": {
     "base_uri": "https://localhost:8080/",
     "height": 34
    },
    "colab_type": "code",
    "executionInfo": {
     "elapsed": 837,
     "status": "ok",
     "timestamp": 1600032253248,
     "user": {
      "displayName": "D D",
      "photoUrl": "https://lh3.googleusercontent.com/a-/AOh14Gh6T1hnprK5j2SM-Y3y4pgVo02G8ksIIlcrc3t3fA=s64",
      "userId": "13287914887952271965"
     },
     "user_tz": -120
    },
    "id": "WCMS6ZGVhsD1",
    "outputId": "36e1e070-50ec-40f6-8645-1ac396352461"
   },
   "outputs": [
    {
     "data": {
      "text/plain": [
       "<Graph identifier=Ncac33e4065db4a1a9d6ab4051394180f (<class 'rdflib.graph.Graph'>)>"
      ]
     },
     "execution_count": 7,
     "metadata": {},
     "output_type": "execute_result"
    }
   ],
   "source": [
    "g.parse(github_storage+\"/rdf/example2.rdf\", format=\"xml\")"
   ]
  },
  {
   "cell_type": "markdown",
   "metadata": {
    "colab_type": "text",
    "id": "1v_SBIp8fEVA"
   },
   "source": [
    "Ahora podemos comprobar el resultado volcando las tripletas de forma sencilla."
   ]
  },
  {
   "cell_type": "code",
   "execution_count": 8,
   "metadata": {
    "colab": {
     "base_uri": "https://localhost:8080/",
     "height": 208
    },
    "colab_type": "code",
    "executionInfo": {
     "elapsed": 566,
     "status": "ok",
     "timestamp": 1600032256494,
     "user": {
      "displayName": "D D",
      "photoUrl": "https://lh3.googleusercontent.com/a-/AOh14Gh6T1hnprK5j2SM-Y3y4pgVo02G8ksIIlcrc3t3fA=s64",
      "userId": "13287914887952271965"
     },
     "user_tz": -120
    },
    "id": "GSW6P7XXfBHj",
    "outputId": "d9637820-6008-4735-f500-6897076204a8"
   },
   "outputs": [
    {
     "name": "stdout",
     "output_type": "stream",
     "text": [
      "http://somewhere/SarahJones http://xmlns.com/foaf/0.1/email sJones@somewhere.com\n",
      "http://somewhere/SarahJones http://www.w3.org/2001/vcard-rdf/3.0#Given Sarah\n",
      "http://somewhere/MattJones http://www.w3.org/2001/vcard-rdf/3.0#Given Matt\n",
      "http://somewhere/JohnSmith http://www.w3.org/2001/vcard-rdf/3.0#Given John\n",
      "http://somewhere/SarahJones http://www.w3.org/2001/vcard-rdf/3.0#FN Sarah Jones\n",
      "http://somewhere/MattJones http://www.w3.org/2001/vcard-rdf/3.0#FN Matt Jones\n",
      "http://somewhere/MattJones http://www.w3.org/2001/vcard-rdf/3.0#Family Jones\n",
      "http://somewhere/MattJones http://xmlns.com/foaf/0.1/knows http://somewhere/JaneSmith\n",
      "http://somewhere/SarahJones http://www.w3.org/2001/vcard-rdf/3.0#Family Jones\n",
      "http://somewhere/JohnSmith http://www.w3.org/2001/vcard-rdf/3.0#FN John Smith\n",
      "http://somewhere/JohnSmith http://www.w3.org/2001/vcard-rdf/3.0#Family Smith\n"
     ]
    }
   ],
   "source": [
    "for subj, pred, obj in g:\n",
    "  print(subj,pred,obj)"
   ]
  },
  {
   "cell_type": "markdown",
   "metadata": {
    "colab_type": "text",
    "id": "5oxiNgJhfYnm"
   },
   "source": [
    "Ahora podemos ver la operación inversa, serializando estos datos a algún formato que nos lo permita. Este proceso también nos permite una conversión sencilla entre formatos."
   ]
  },
  {
   "cell_type": "code",
   "execution_count": 9,
   "metadata": {
    "colab": {},
    "colab_type": "code",
    "id": "UfjimlObfWIK"
   },
   "outputs": [
    {
     "name": "stdout",
     "output_type": "stream",
     "text": [
      "@prefix foaf: <http://xmlns.com/foaf/0.1/> .\n",
      "@prefix vcard: <http://www.w3.org/2001/vcard-rdf/3.0#> .\n",
      "@prefix xsd: <http://www.w3.org/2001/XMLSchema#> .\n",
      "\n",
      "<http://somewhere/JohnSmith> vcard:FN \"John Smith\"^^xsd:string ;\n",
      "    vcard:Family \"Smith\"^^xsd:string ;\n",
      "    vcard:Given \"John\"^^xsd:string .\n",
      "\n",
      "<http://somewhere/MattJones> vcard:FN \"Matt Jones\"^^xsd:string ;\n",
      "    vcard:Family \"Jones\"^^xsd:string ;\n",
      "    vcard:Given \"Matt\"^^xsd:string ;\n",
      "    foaf:knows <http://somewhere/JaneSmith> .\n",
      "\n",
      "<http://somewhere/SarahJones> vcard:FN \"Sarah Jones\"^^xsd:string ;\n",
      "    vcard:Family \"Jones\"^^xsd:string ;\n",
      "    vcard:Given \"Sarah\"^^xsd:string ;\n",
      "    foaf:email \"sJones@somewhere.com\"^^xsd:string .\n",
      "\n",
      "\n"
     ]
    }
   ],
   "source": [
    "print(g.serialize(format=\"ttl\"))\n"
   ]
  },
  {
   "cell_type": "code",
   "execution_count": 10,
   "metadata": {
    "colab": {},
    "colab_type": "code",
    "id": "Yfd-Nj5TfghY"
   },
   "outputs": [
    {
     "name": "stdout",
     "output_type": "stream",
     "text": [
      "<?xml version=\"1.0\" encoding=\"UTF-8\"?>\n",
      "<rdf:RDF\n",
      "   xmlns:foaf=\"http://xmlns.com/foaf/0.1/\"\n",
      "   xmlns:rdf=\"http://www.w3.org/1999/02/22-rdf-syntax-ns#\"\n",
      "   xmlns:vcard=\"http://www.w3.org/2001/vcard-rdf/3.0#\"\n",
      ">\n",
      "  <rdf:Description rdf:about=\"http://somewhere/SarahJones\">\n",
      "    <vcard:FN rdf:datatype=\"http://www.w3.org/2001/XMLSchema#string\">Sarah Jones</vcard:FN>\n",
      "    <vcard:Given rdf:datatype=\"http://www.w3.org/2001/XMLSchema#string\">Sarah</vcard:Given>\n",
      "    <vcard:Family rdf:datatype=\"http://www.w3.org/2001/XMLSchema#string\">Jones</vcard:Family>\n",
      "    <foaf:email rdf:datatype=\"http://www.w3.org/2001/XMLSchema#string\">sJones@somewhere.com</foaf:email>\n",
      "  </rdf:Description>\n",
      "  <rdf:Description rdf:about=\"http://somewhere/MattJones\">\n",
      "    <vcard:FN rdf:datatype=\"http://www.w3.org/2001/XMLSchema#string\">Matt Jones</vcard:FN>\n",
      "    <vcard:Given rdf:datatype=\"http://www.w3.org/2001/XMLSchema#string\">Matt</vcard:Given>\n",
      "    <vcard:Family rdf:datatype=\"http://www.w3.org/2001/XMLSchema#string\">Jones</vcard:Family>\n",
      "    <foaf:knows rdf:resource=\"http://somewhere/JaneSmith\"/>\n",
      "  </rdf:Description>\n",
      "  <rdf:Description rdf:about=\"http://somewhere/JohnSmith\">\n",
      "    <vcard:FN rdf:datatype=\"http://www.w3.org/2001/XMLSchema#string\">John Smith</vcard:FN>\n",
      "    <vcard:Given rdf:datatype=\"http://www.w3.org/2001/XMLSchema#string\">John</vcard:Given>\n",
      "    <vcard:Family rdf:datatype=\"http://www.w3.org/2001/XMLSchema#string\">Smith</vcard:Family>\n",
      "  </rdf:Description>\n",
      "</rdf:RDF>\n",
      "\n"
     ]
    }
   ],
   "source": [
    "print(g.serialize(format=\"xml\"))\n"
   ]
  },
  {
   "cell_type": "markdown",
   "metadata": {
    "colab_type": "text",
    "id": "5sQtCm1CgIvS"
   },
   "source": [
    "También podemos guardar el resultado serializado en un fichero, puedes ver este fichero resultante en el panel izquierdo.\n"
   ]
  },
  {
   "cell_type": "code",
   "execution_count": 11,
   "metadata": {
    "colab": {},
    "colab_type": "code",
    "id": "kdKGU118fiuy"
   },
   "outputs": [
    {
     "data": {
      "text/plain": [
       "<Graph identifier=Ncac33e4065db4a1a9d6ab4051394180f (<class 'rdflib.graph.Graph'>)>"
      ]
     },
     "execution_count": 11,
     "metadata": {},
     "output_type": "execute_result"
    }
   ],
   "source": [
    "g.serialize(\"example1.ttl\", format=\"ttl\")"
   ]
  }
 ],
 "metadata": {
  "colab": {
   "authorship_tag": "ABX9TyNKZt/3ex7DyiGFduDlC4wT",
   "collapsed_sections": [],
   "name": "Task01.ipynb",
   "provenance": []
  },
  "kernelspec": {
   "display_name": "Python 3 (ipykernel)",
   "language": "python",
   "name": "python3"
  },
  "language_info": {
   "codemirror_mode": {
    "name": "ipython",
    "version": 3
   },
   "file_extension": ".py",
   "mimetype": "text/x-python",
   "name": "python",
   "nbconvert_exporter": "python",
   "pygments_lexer": "ipython3",
   "version": "3.9.5"
  }
 },
 "nbformat": 4,
 "nbformat_minor": 1
}
