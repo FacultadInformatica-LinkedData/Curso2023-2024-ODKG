{
 "cells": [
  {
   "cell_type": "markdown",
   "metadata": {
    "colab_type": "text",
    "id": "mykrL5dzjdZd"
   },
   "source": [
    "**Task 02: Managing statements**"
   ]
  },
  {
   "cell_type": "markdown",
   "metadata": {
    "colab_type": "text",
    "id": "LnByOT0rjr5G"
   },
   "source": [
    "Comenzamos con un grafo vacío"
   ]
  },
  {
   "cell_type": "code",
   "execution_count": 2,
   "metadata": {
    "colab": {
     "base_uri": "https://localhost:8080/",
     "height": 86
    },
    "colab_type": "code",
    "executionInfo": {
     "elapsed": 2974,
     "status": "ok",
     "timestamp": 1599451796678,
     "user": {
      "displayName": "D D",
      "photoUrl": "https://lh3.googleusercontent.com/a-/AOh14Gh6T1hnprK5j2SM-Y3y4pgVo02G8ksIIlcrc3t3fA=s64",
      "userId": "13287914887952271965"
     },
     "user_tz": -120
    },
    "id": "iOqfw6cYjdKg",
    "outputId": "b49b38b2-1416-4fdf-ec2b-a6fa22f2a91c"
   },
   "outputs": [
    {
     "name": "stdout",
     "output_type": "stream",
     "text": [
      "Requirement already satisfied: rdflib in /home/dgarijo/Documents/GitHub/Curso2021-2022/env_3.9/lib/python3.9/site-packages (6.0.1)\r\n",
      "Requirement already satisfied: setuptools in /home/dgarijo/Documents/GitHub/Curso2021-2022/env_3.9/lib/python3.9/site-packages (from rdflib) (44.1.1)\r\n",
      "Requirement already satisfied: isodate in /home/dgarijo/Documents/GitHub/Curso2021-2022/env_3.9/lib/python3.9/site-packages (from rdflib) (0.6.0)\r\n",
      "Requirement already satisfied: pyparsing in /home/dgarijo/Documents/GitHub/Curso2021-2022/env_3.9/lib/python3.9/site-packages (from rdflib) (2.4.7)\r\n",
      "Requirement already satisfied: six in /home/dgarijo/Documents/GitHub/Curso2021-2022/env_3.9/lib/python3.9/site-packages (from isodate->rdflib) (1.16.0)\r\n"
     ]
    }
   ],
   "source": [
    "!pip install rdflib\n",
    "github_storage = \"https://raw.githubusercontent.com/FacultadInformatica-LinkedData/Curso2021-2022/master/Assignment4/course_materials\""
   ]
  },
  {
   "cell_type": "code",
   "execution_count": 3,
   "metadata": {
    "colab": {},
    "colab_type": "code",
    "id": "hoa1F3UZjPJB"
   },
   "outputs": [],
   "source": [
    "from rdflib import Graph, Namespace, Literal\n",
    "g = Graph()"
   ]
  },
  {
   "cell_type": "markdown",
   "metadata": {
    "colab_type": "text",
    "id": "DZPMjhmnjxVO"
   },
   "source": [
    "Creamos el recurso John Smith con su nombre completo\n"
   ]
  },
  {
   "cell_type": "code",
   "execution_count": 4,
   "metadata": {
    "colab": {},
    "colab_type": "code",
    "id": "mFRCCFmTkG6S"
   },
   "outputs": [],
   "source": [
    "fullName = Literal(\"John Smith\")\n",
    "EX = Namespace(\"http://example.org/\")\n",
    "johnURI = EX.JohnSmith"
   ]
  },
  {
   "cell_type": "markdown",
   "metadata": {
    "colab_type": "text",
    "id": "u8i7EOwZlPGi"
   },
   "source": [
    "Generamos la sentencia añadiendo el predicado (propiedad)"
   ]
  },
  {
   "cell_type": "code",
   "execution_count": 5,
   "metadata": {
    "colab": {
     "base_uri": "https://localhost:8080/",
     "height": 34
    },
    "colab_type": "code",
    "executionInfo": {
     "elapsed": 2941,
     "status": "ok",
     "timestamp": 1599451796693,
     "user": {
      "displayName": "D D",
      "photoUrl": "https://lh3.googleusercontent.com/a-/AOh14Gh6T1hnprK5j2SM-Y3y4pgVo02G8ksIIlcrc3t3fA=s64",
      "userId": "13287914887952271965"
     },
     "user_tz": -120
    },
    "id": "iocF6ceGlJL3",
    "outputId": "71299ca2-3ef5-4696-8c71-bed495731a56"
   },
   "outputs": [
    {
     "name": "stdout",
     "output_type": "stream",
     "text": [
      "(rdflib.term.URIRef('http://example.org/JohnSmith'), rdflib.term.URIRef('http://www.w3.org/2001/vcard-rdf/3.0#FN'), rdflib.term.Literal('John Smith'))\n"
     ]
    },
    {
     "data": {
      "text/plain": [
       "<Graph identifier=N4659b37474a840e69e5fcab6a533b9b7 (<class 'rdflib.graph.Graph'>)>"
      ]
     },
     "execution_count": 5,
     "metadata": {},
     "output_type": "execute_result"
    }
   ],
   "source": [
    "VCARD = Namespace(\"http://www.w3.org/2001/vcard-rdf/3.0#\")\n",
    "\n",
    "resource = (johnURI, VCARD.FN, fullName)\n",
    "\n",
    "print(resource)\n",
    "\n",
    "g.add(resource)"
   ]
  },
  {
   "cell_type": "markdown",
   "metadata": {
    "colab_type": "text",
    "id": "_r2IA6SHmkyh"
   },
   "source": [
    "Creamos otro recurso para Jane con su nombre completo e email"
   ]
  },
  {
   "cell_type": "markdown",
   "metadata": {
    "colab_type": "text",
    "id": "wllA6e-enah6"
   },
   "source": [
    "Podemos abreviar un poco lo que hemos hecho en la tarea anterior, atención a los dobles paréntesis, add() acepta un solo parámetro en forma de tupla, no 3 parámetros."
   ]
  },
  {
   "cell_type": "code",
   "execution_count": 6,
   "metadata": {
    "colab": {},
    "colab_type": "code",
    "id": "h6V6msiVnZzV"
   },
   "outputs": [
    {
     "data": {
      "text/plain": [
       "<Graph identifier=N4659b37474a840e69e5fcab6a533b9b7 (<class 'rdflib.graph.Graph'>)>"
      ]
     },
     "execution_count": 6,
     "metadata": {},
     "output_type": "execute_result"
    }
   ],
   "source": [
    "g.add((EX.JaneSmith, VCARD.FN, Literal(\"Jane Smith\")))\n",
    "g.add((EX.JaneSmith, VCARD.EMAIL, Literal(\"jsmith@example.org\")))"
   ]
  },
  {
   "cell_type": "markdown",
   "metadata": {
    "colab_type": "text",
    "id": "_UPNqIOboSio"
   },
   "source": [
    "Añadimos una relación entre John y Jane mediante el vocabulario FOAF"
   ]
  },
  {
   "cell_type": "markdown",
   "metadata": {
    "colab_type": "text",
    "id": "DkZjkRHEonAo"
   },
   "source": [
    "Hay ciertos espacios de nombres que son nativos a RDFlib, FOAF es uno de ellos y no hace falta que lo declaremos nosotros"
   ]
  },
  {
   "cell_type": "code",
   "execution_count": 7,
   "metadata": {
    "colab": {},
    "colab_type": "code",
    "id": "4jL9pXaYo1uN"
   },
   "outputs": [],
   "source": [
    "from rdflib import FOAF"
   ]
  },
  {
   "cell_type": "code",
   "execution_count": 8,
   "metadata": {
    "colab": {},
    "colab_type": "code",
    "id": "tDl33PvIo4Ga"
   },
   "outputs": [
    {
     "data": {
      "text/plain": [
       "<Graph identifier=N4659b37474a840e69e5fcab6a533b9b7 (<class 'rdflib.graph.Graph'>)>"
      ]
     },
     "execution_count": 8,
     "metadata": {},
     "output_type": "execute_result"
    }
   ],
   "source": [
    "g.add((EX.JohnSmith, FOAF.knows, EX.JaneSmith))"
   ]
  },
  {
   "cell_type": "markdown",
   "metadata": {
    "colab_type": "text",
    "id": "ZVs6mM7vr4Y7"
   },
   "source": [
    "Vemos el resultado conjunto"
   ]
  },
  {
   "cell_type": "code",
   "execution_count": 9,
   "metadata": {
    "colab": {
     "base_uri": "https://localhost:8080/",
     "height": 208
    },
    "colab_type": "code",
    "executionInfo": {
     "elapsed": 648,
     "status": "ok",
     "timestamp": 1599451952335,
     "user": {
      "displayName": "D D",
      "photoUrl": "https://lh3.googleusercontent.com/a-/AOh14Gh6T1hnprK5j2SM-Y3y4pgVo02G8ksIIlcrc3t3fA=s64",
      "userId": "13287914887952271965"
     },
     "user_tz": -120
    },
    "id": "ri30SNw8r67i",
    "outputId": "a71ae40f-cf5c-4e91-e289-f9e236ebd871"
   },
   "outputs": [
    {
     "name": "stdout",
     "output_type": "stream",
     "text": [
      "@prefix ns1: <http://www.w3.org/2001/vcard-rdf/3.0#> .\n",
      "@prefix ns2: <http://xmlns.com/foaf/0.1/> .\n",
      "\n",
      "<http://example.org/JohnSmith> ns1:FN \"John Smith\" ;\n",
      "    ns2:knows <http://example.org/JaneSmith> .\n",
      "\n",
      "<http://example.org/JaneSmith> ns1:EMAIL \"jsmith@example.org\" ;\n",
      "    ns1:FN \"Jane Smith\" .\n",
      "\n",
      "\n"
     ]
    }
   ],
   "source": [
    "print(g.serialize(format=\"ttl\"))"
   ]
  },
  {
   "cell_type": "markdown",
   "metadata": {},
   "source": [
    "Tambien puedes incluir el prefijo EX en el grafo:"
   ]
  },
  {
   "cell_type": "code",
   "execution_count": 13,
   "metadata": {},
   "outputs": [
    {
     "name": "stdout",
     "output_type": "stream",
     "text": [
      "@prefix ex: <http://example.org/> .\n",
      "@prefix ns1: <http://www.w3.org/2001/vcard-rdf/3.0#> .\n",
      "@prefix ns2: <http://xmlns.com/foaf/0.1/> .\n",
      "\n",
      "ex:JohnSmith ns1:FN \"John Smith\" ;\n",
      "    ns2:knows ex:JaneSmith .\n",
      "\n",
      "ex:JaneSmith ns1:EMAIL \"jsmith@example.org\" ;\n",
      "    ns1:FN \"Jane Smith\" .\n",
      "\n",
      "\n"
     ]
    }
   ],
   "source": [
    "g.namespace_manager.bind('ex', EX)\n",
    "print(g.serialize(format=\"ttl\"))"
   ]
  },
  {
   "cell_type": "code",
   "execution_count": null,
   "metadata": {},
   "outputs": [],
   "source": []
  }
 ],
 "metadata": {
  "colab": {
   "authorship_tag": "ABX9TyPvgpzcO+RIWC9j5H1oLrWp",
   "collapsed_sections": [],
   "name": "Task02.ipynb",
   "provenance": []
  },
  "kernelspec": {
   "display_name": "Python 3 (ipykernel)",
   "language": "python",
   "name": "python3"
  },
  "language_info": {
   "codemirror_mode": {
    "name": "ipython",
    "version": 3
   },
   "file_extension": ".py",
   "mimetype": "text/x-python",
   "name": "python",
   "nbconvert_exporter": "python",
   "pygments_lexer": "ipython3",
   "version": "3.9.5"
  }
 },
 "nbformat": 4,
 "nbformat_minor": 1
}
