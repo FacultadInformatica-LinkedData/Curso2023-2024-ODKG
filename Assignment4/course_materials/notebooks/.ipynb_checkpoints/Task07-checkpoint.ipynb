{
 "cells": [
  {
   "cell_type": "markdown",
   "metadata": {
    "id": "nOOPLCHF7hLB"
   },
   "source": [
    "**Task 07: Querying RDF(s)**"
   ]
  },
  {
   "cell_type": "code",
   "execution_count": 1,
   "metadata": {
    "colab": {
     "base_uri": "https://localhost:8080/",
     "height": 211
    },
    "id": "Yl9npCt8n6m-",
    "outputId": "096014c0-f1ad-4bd6-bada-ab3561ff1367"
   },
   "outputs": [
    {
     "name": "stdout",
     "output_type": "stream",
     "text": [
      "Requirement already satisfied: rdflib in d:\\anaconda\\lib\\site-packages (7.0.0)\n",
      "Requirement already satisfied: isodate<0.7.0,>=0.6.0 in d:\\anaconda\\lib\\site-packages (from rdflib) (0.6.1)\n",
      "Requirement already satisfied: pyparsing<4,>=2.1.0 in d:\\anaconda\\lib\\site-packages (from rdflib) (3.0.9)\n",
      "Requirement already satisfied: six in d:\\anaconda\\lib\\site-packages (from isodate<0.7.0,>=0.6.0->rdflib) (1.16.0)\n"
     ]
    }
   ],
   "source": [
    "!pip install rdflib\n",
    "github_storage = \"https://raw.githubusercontent.com/FacultadInformatica-LinkedData/Curso2023-2024/master/Assignment4/course_materials\""
   ]
  },
  {
   "cell_type": "markdown",
   "metadata": {
    "id": "XY7aPc86Bqoo"
   },
   "source": [
    "First let's read the RDF file"
   ]
  },
  {
   "cell_type": "code",
   "execution_count": 2,
   "metadata": {
    "colab": {
     "base_uri": "https://localhost:8080/",
     "height": 35
    },
    "id": "9ERh415on7kF",
    "outputId": "395dc571-ef76-4330-cf4b-0b9db3aa5277"
   },
   "outputs": [
    {
     "data": {
      "text/plain": [
       "<Graph identifier=Nd61f4193b75e40e08d7895a0a985ec0e (<class 'rdflib.graph.Graph'>)>"
      ]
     },
     "execution_count": 2,
     "metadata": {},
     "output_type": "execute_result"
    }
   ],
   "source": [
    "from rdflib import Graph, Namespace, Literal\n",
    "from rdflib.namespace import RDF, RDFS\n",
    "g = Graph()\n",
    "g.namespace_manager.bind('ns', Namespace(\"http://somewhere#\"), override=False)\n",
    "g.namespace_manager.bind('vcard', Namespace(\"http://www.w3.org/2001/vcard-rdf/3.0#\"), override=False)\n",
    "g.parse(github_storage+\"/rdf/example6.rdf\", format=\"xml\")"
   ]
  },
  {
   "cell_type": "markdown",
   "metadata": {
    "id": "qp1oe2Eddsvo"
   },
   "source": [
    "**TASK 7.1: List all subclasses of \"LivingThing\" with RDFLib and SPARQL**"
   ]
  },
  {
   "cell_type": "code",
   "execution_count": 4,
   "metadata": {
    "id": "tRcSWuMHOXBl"
   },
   "outputs": [
    {
     "name": "stdout",
     "output_type": "stream",
     "text": [
      "SPARQL\n",
      "http://somewhere#Person\n",
      "http://somewhere#Animal\n",
      "RDFLib\n",
      "http://somewhere#Person\n",
      "http://somewhere#Animal\n"
     ]
    }
   ],
   "source": [
    "# TO DO\n",
    "ns = Namespace(\"http://somewhere#\")\n",
    "#\n",
    "print(\"SPARQL\")\n",
    "#for r in g.query(q1):\n",
    "from rdflib.plugins.sparql import prepareQuery\n",
    "\n",
    "q1 = prepareQuery('''\n",
    "  SELECT  ?sub  \n",
    "  WHERE {\n",
    "    ?sub rdfs:subClassOf ns:LivingThing.\n",
    "  }  \n",
    "  ''', initNs={\"ns\": ns}\n",
    "                  )\n",
    "\n",
    "for r in g.query(q1):\n",
    "    print(r.sub)\n",
    "\n",
    "#\n",
    "print(\"RDFLib\")\n",
    "ns = Namespace(\"http://somewhere#\")\n",
    "for s, p, o in g.triples((None, RDFS.subClassOf, ns.LivingThing)):\n",
    "  print(s)"
   ]
  },
  {
   "cell_type": "markdown",
   "metadata": {
    "id": "gM3DASkTQQ5Y"
   },
   "source": [
    "**TASK 7.2: List all individuals of \"Person\" with RDFLib and SPARQL (remember the subClasses)**\n"
   ]
  },
  {
   "cell_type": "code",
   "execution_count": 4,
   "metadata": {
    "id": "LiKSPHRzS-XJ"
   },
   "outputs": [
    {
     "name": "stdout",
     "output_type": "stream",
     "text": [
      "http://somewhere#SaraJones\n",
      "http://somewhere#JohnSmith\n",
      "http://somewhere#JaneSmith\n",
      "http://somewhere#JimGonzalez\n",
      "with RDFLib\n",
      "http://somewhere#SaraJones\n",
      "http://somewhere#JohnSmith\n",
      "http://somewhere#JaneSmith\n",
      "http://somewhere#JimGonzalez\n"
     ]
    }
   ],
   "source": [
    "# TO DO\n",
    "\n",
    "print(\"SPARQL\")\n",
    "\n",
    "q2 = prepareQuery('''\n",
    "  SELECT  ?instance  \n",
    "  WHERE {\n",
    "    {?sub rdfs:subClassOf* ns:Person.\n",
    "    ?instance a ?sub}\n",
    "  }  \n",
    "  ''', initNs={\"ns\": ns}\n",
    "                  )\n",
    "# Visualize the results\n",
    "for r in g.query(q2):\n",
    "    print(r.instance)\n",
    "\n",
    "print(\"with RDFLib\")\n",
    "for s, p, o in g.triples((None, RDF.type, ns.Person)):\n",
    "    print(s)\n",
    "for s, p, o in g.triples((None, RDFS.subClassOf, ns.Person)):\n",
    "    for s1, p1, o1 in g.triples((None, RDF.type, s)):\n",
    "        print(s1)\n"
   ]
  },
  {
   "cell_type": "markdown",
   "metadata": {
    "id": "MXBqtBkJd22I"
   },
   "source": [
    "**TASK 7.3: List all individuals of \"Person\" or \"Animal\" and all their properties including their class with RDFLib and SPARQL. You do not need to list the individuals of the subclasses of person**\n"
   ]
  },
  {
   "cell_type": "code",
   "execution_count": 5,
   "metadata": {
    "id": "APQGv3NHX8Tf"
   },
   "outputs": [
    {
     "name": "stdout",
     "output_type": "stream",
     "text": [
      "http://somewhere#SaraJones http://www.w3.org/1999/02/22-rdf-syntax-ns#type http://somewhere#Person\n",
      "http://somewhere#SaraJones http://www.w3.org/2001/vcard-rdf/3.0/Given Sara\n",
      "http://somewhere#SaraJones http://www.w3.org/2001/vcard-rdf/3.0/FN Sara Jones\n",
      "http://somewhere#SaraJones http://www.w3.org/2001/vcard-rdf/3.0/Family Jones\n",
      "http://somewhere#SaraJones http://xmlns.com/foaf/0.1/knows http://somewhere#RockySmith\n",
      "http://somewhere#SaraJones http://xmlns.com/foaf/0.1/knows http://somewhere#JaneSmith\n",
      "http://somewhere#JohnSmith http://www.w3.org/1999/02/22-rdf-syntax-ns#type http://somewhere#Person\n",
      "http://somewhere#JohnSmith http://www.w3.org/2001/vcard-rdf/3.0/Given John\n",
      "http://somewhere#JohnSmith http://www.w3.org/2001/vcard-rdf/3.0/FN John Smith\n",
      "http://somewhere#JohnSmith http://www.w3.org/2001/vcard-rdf/3.0/Family Smith\n",
      "with RDFLib\n",
      "http://somewhere#SaraJones\n",
      "http://somewhere#SaraJones http://www.w3.org/1999/02/22-rdf-syntax-ns#type http://somewhere#Person\n",
      "http://somewhere#SaraJones http://www.w3.org/2001/vcard-rdf/3.0/Given Sara\n",
      "http://somewhere#SaraJones http://www.w3.org/2001/vcard-rdf/3.0/FN Sara Jones\n",
      "http://somewhere#SaraJones http://www.w3.org/2001/vcard-rdf/3.0/Family Jones\n",
      "http://somewhere#SaraJones http://xmlns.com/foaf/0.1/knows http://somewhere#RockySmith\n",
      "http://somewhere#SaraJones http://xmlns.com/foaf/0.1/knows http://somewhere#JaneSmith\n",
      "http://somewhere#JohnSmith\n",
      "http://somewhere#JohnSmith http://www.w3.org/1999/02/22-rdf-syntax-ns#type http://somewhere#Person\n",
      "http://somewhere#JohnSmith http://www.w3.org/2001/vcard-rdf/3.0/Given John\n",
      "http://somewhere#JohnSmith http://www.w3.org/2001/vcard-rdf/3.0/FN John Smith\n",
      "http://somewhere#JohnSmith http://www.w3.org/2001/vcard-rdf/3.0/Family Smith\n"
     ]
    }
   ],
   "source": [
    "# TO DO\n",
    "\n",
    "print(\"SPARQL\")\n",
    "q3 = prepareQuery('''\n",
    "    SELECT DISTINCT ?individual ?property ?value \n",
    "    WHERE {\n",
    "        ?individual rdf:type ns:Person.\n",
    "        \n",
    "        ?individual ?property ?value.\n",
    "        \n",
    "    }\n",
    "    ''', initNs={\"ns\": ns}\n",
    "                 )\n",
    "# Visualize the results\n",
    "\n",
    "for r in g.query(q3):\n",
    "    print(r.individual, r.property, r.value)\n",
    "    \n",
    "    \n",
    "print(\"with RDFLib\")\n",
    "for s, p, o in g.triples((None, RDF.type, ns.Person)):\n",
    "    print(s)\n",
    "    for s0, p0, o0 in g.triples((s, None, None)):\n",
    "        print(s0, p0, o0)\n",
    "\n"
   ]
  },
  {
   "cell_type": "code",
   "execution_count": 6,
   "metadata": {},
   "outputs": [
    {
     "name": "stdout",
     "output_type": "stream",
     "text": [
      "http://somewhere#RockySmith http://www.w3.org/1999/02/22-rdf-syntax-ns#type http://somewhere#Animal\n",
      "http://somewhere#RockySmith http://www.w3.org/2001/vcard-rdf/3.0/Given Rocky\n",
      "http://somewhere#RockySmith http://www.w3.org/2001/vcard-rdf/3.0/FN Rocky Smith\n",
      "http://somewhere#RockySmith http://www.w3.org/2001/vcard-rdf/3.0/Family Smith\n",
      "http://somewhere#RockySmith http://xmlns.com/foaf/0.1/knows http://somewhere#JaneSmith\n",
      "http://somewhere#RockySmith http://xmlns.com/foaf/0.1/knows http://somewhere#SaraJones\n",
      "with RDFLib\n",
      "http://somewhere#RockySmith\n",
      "http://somewhere#RockySmith http://www.w3.org/1999/02/22-rdf-syntax-ns#type http://somewhere#Animal\n",
      "http://somewhere#RockySmith http://www.w3.org/2001/vcard-rdf/3.0/Given Rocky\n",
      "http://somewhere#RockySmith http://www.w3.org/2001/vcard-rdf/3.0/FN Rocky Smith\n",
      "http://somewhere#RockySmith http://www.w3.org/2001/vcard-rdf/3.0/Family Smith\n",
      "http://somewhere#RockySmith http://xmlns.com/foaf/0.1/knows http://somewhere#JaneSmith\n",
      "http://somewhere#RockySmith http://xmlns.com/foaf/0.1/knows http://somewhere#SaraJones\n"
     ]
    }
   ],
   "source": [
    "# TO DO\n",
    "q3 = prepareQuery('''\n",
    "    SELECT DISTINCT ?individual ?property ?value \n",
    "    WHERE {\n",
    "        ?individual rdf:type ns:Animal.\n",
    "        \n",
    "        ?individual ?property ?value.\n",
    "        \n",
    "    }\n",
    "    ''', initNs={\"ns\": ns}\n",
    "                 )\n",
    "# Visualize the results\n",
    "\n",
    "for r in g.query(q3):\n",
    "    print(r.individual, r.property, r.value)\n",
    "    \n",
    "    \n",
    "print(\"with RDFLib\")\n",
    "for s, p, o in g.triples((None, RDF.type, ns.Animal)):\n",
    "    print(s)\n",
    "    for s0, p0, o0 in g.triples((s, None, None)):\n",
    "        print(s0, p0, o0)"
   ]
  },
  {
   "cell_type": "markdown",
   "metadata": {
    "id": "3NyI7M2VNr9R"
   },
   "source": [
    "**TASK 7.4:  List the name of the persons who know Rocky**"
   ]
  },
  {
   "cell_type": "code",
   "execution_count": 12,
   "metadata": {
    "id": "I_CNoIKdNpbx"
   },
   "outputs": [
    {
     "name": "stdout",
     "output_type": "stream",
     "text": [
      "SPARQL\n",
      "http://somewhere#RockySmith\n",
      "http://somewhere#SaraJones\n",
      "http://somewhere#JaneSmith\n"
     ]
    }
   ],
   "source": [
    "# TO DO\n",
    "from rdflib import FOAF\n",
    "from rdflib import XSD\n",
    "VCARD= Namespace(\"http://www.w3.org/2001/vcard-rdf/3.0#\")\n",
    "\n",
    "print(\"SPARQL\")\n",
    "q4 = prepareQuery('''\n",
    "  SELECT  DISTINCT ?individual   \n",
    "  WHERE {\n",
    "    ?individual foaf:knows ?RockySmith.\n",
    "  }  \n",
    "  ''',\n",
    "  initNs = { \"foaf\": FOAF, \"ns\": ns }\n",
    ")\n",
    "# Visualize the results\n",
    "\n",
    "for r in g.query(q4):\n",
    "    print(r.individual)"
   ]
  },
  {
   "cell_type": "code",
   "execution_count": 20,
   "metadata": {},
   "outputs": [],
   "source": [
    "q5 = prepareQuery('''\n",
    "  SELECT  ?Subject ?Given \n",
    "  WHERE {\n",
    "    ?Subject foaf:knows ?RockySmith.\n",
    "\t?RockySmith vcard:FN ?RockySmithFullName.\n",
    "\t?Subject vcard:Given ?Given.\n",
    "  }  \n",
    "  ''',\n",
    "  initNs = { \"foaf\": FOAF, \"vcard\": VCARD, \"xsd\":XSD}\n",
    ")\n",
    "\n",
    "for r in g.query(q5, initBindings = {'?RockySmithFullName' : Literal('Rocky Smith', datatype=XSD.string)}):\n",
    "  print(r.Subject, r.Given)"
   ]
  },
  {
   "cell_type": "code",
   "execution_count": 16,
   "metadata": {},
   "outputs": [
    {
     "name": "stdout",
     "output_type": "stream",
     "text": [
      "RDFLib\n",
      "http://somewhere#SaraJones knows http://somewhere#RockySmith\n",
      "http://somewhere#JaneSmith knows http://somewhere#RockySmith\n"
     ]
    }
   ],
   "source": [
    "print(\"RDFLib\")\n",
    "for s, p, o in g.triples((None, FOAF.knows, ns.RockySmith)):\n",
    "    print(f\"{s} knows {o}\")\n",
    "    for s0, p0, o0 in g.triples((s, vcard.FN, None)):\n",
    "        print(s0)"
   ]
  },
  {
   "cell_type": "markdown",
   "metadata": {
    "id": "kyjGsyxDPa2C"
   },
   "source": [
    "**Task 7.5: List the entities who know at least two other entities in the graph**"
   ]
  },
  {
   "cell_type": "code",
   "execution_count": 39,
   "metadata": {},
   "outputs": [
    {
     "name": "stdout",
     "output_type": "stream",
     "text": [
      "http://somewhere#RockySmith\n",
      "http://somewhere#SaraJones\n",
      "http://somewhere#JaneSmith\n"
     ]
    }
   ],
   "source": [
    "q5 = prepareQuery('''\n",
    "SELECT ?subject ?FullName\n",
    "WHERE {\n",
    "  ?subject foaf:knows ?object1, ?object2.\n",
    "  ?subject vcard:FN ?FullName.\n",
    "  FILTER (?object1 != ?object2)\n",
    "  \n",
    "}\n",
    "GROUP BY ?subject\n",
    "HAVING (COUNT(?object1) + COUNT(?object2) >= 2)\n",
    "''',\n",
    "  initNs = { \"foaf\": FOAF, \"vcard\": VCARD, \"xsd\":XSD}\n",
    ")\n",
    "# Visualize the results\n",
    "\n",
    "for r in g.query(q5):\n",
    "    print(r.subject)\n",
    "    "
   ]
  },
  {
   "cell_type": "code",
   "execution_count": 21,
   "metadata": {
    "id": "yoVwVZUAPaLm"
   },
   "outputs": [
    {
     "name": "stdout",
     "output_type": "stream",
     "text": [
      "http://somewhere#RockySmith knows http://somewhere#JaneSmith\n",
      "http://somewhere#SaraJones knows http://somewhere#JaneSmith\n",
      "http://somewhere#RockySmith knows http://somewhere#SaraJones\n",
      "http://somewhere#JaneSmith knows http://somewhere#SaraJones\n",
      "http://somewhere#SaraJones knows http://somewhere#RockySmith\n",
      "http://somewhere#JaneSmith knows http://somewhere#RockySmith\n",
      "[rdflib.term.URIRef('http://somewhere#RockySmith'), rdflib.term.URIRef('http://somewhere#SaraJones'), rdflib.term.URIRef('http://somewhere#RockySmith'), rdflib.term.URIRef('http://somewhere#JaneSmith'), rdflib.term.URIRef('http://somewhere#SaraJones'), rdflib.term.URIRef('http://somewhere#JaneSmith')]\n",
      "[rdflib.term.URIRef('http://somewhere#RockySmith'), rdflib.term.URIRef('http://somewhere#SaraJones'), rdflib.term.URIRef('http://somewhere#JaneSmith')]\n",
      "[rdflib.term.URIRef('http://somewhere#RockySmith'), rdflib.term.URIRef('http://somewhere#SaraJones'), rdflib.term.URIRef('http://somewhere#JaneSmith')]\n"
     ]
    }
   ],
   "source": [
    "# TO DO\n",
    "from rdflib import Graph, Namespace, URIRef\n",
    "\n",
    "sujetos=[] #Todos los sujetos que conocen a alguien\n",
    "sujetos_validos=[] #Los sujetos que conocen a al menos dos personas\n",
    "for s, p, o in g.triples((None, FOAF.knows, None)):\n",
    "    sujetos.append(s)\n",
    "    print(f\"{s} knows {o}\")\n",
    "\n",
    "print(sujetos)\n",
    "sujetos_unicos=list(dict.fromkeys(sujetos))#Sujetos que conocen a alguien sin repetirse\n",
    "print(sujetos_unicos)\n",
    "for i in range(0, len(sujetos_unicos)):   \n",
    "    x = sujetos.count(sujetos_unicos[i])\n",
    "    if x>= 2:\n",
    "        sujetos_validos.append(sujetos_unicos[i])\n",
    "print(sujetos_validos)  \n",
    "\n",
    "for sujeto in sujetos_validos:\n",
    "    # Iterar sobre las tripletas donde el sujeto es el sujeto válido\n",
    "    for s, p, o in g.triples((sujeto, vcard.FN, None)):\n",
    "        print(s,p,o)"
   ]
  },
  {
   "cell_type": "code",
   "execution_count": 22,
   "metadata": {},
   "outputs": [
    {
     "name": "stdout",
     "output_type": "stream",
     "text": [
      "http://somewhere#RockySmith\n"
     ]
    }
   ],
   "source": [
    "\n",
    "print(sujetos_validos[0])"
   ]
  },
  {
   "cell_type": "code",
   "execution_count": null,
   "metadata": {},
   "outputs": [],
   "source": []
  }
 ],
 "metadata": {
  "colab": {
   "provenance": []
  },
  "kernelspec": {
   "display_name": "Python 3 (ipykernel)",
   "language": "python",
   "name": "python3"
  },
  "language_info": {
   "codemirror_mode": {
    "name": "ipython",
    "version": 3
   },
   "file_extension": ".py",
   "mimetype": "text/x-python",
   "name": "python",
   "nbconvert_exporter": "python",
   "pygments_lexer": "ipython3",
   "version": "3.11.3"
  }
 },
 "nbformat": 4,
 "nbformat_minor": 1
}
